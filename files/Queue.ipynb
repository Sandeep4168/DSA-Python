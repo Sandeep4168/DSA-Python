{
 "cells": [
  {
   "cell_type": "markdown",
   "metadata": {},
   "source": [
    "Queue is the data structure that stores data in First In/First out manner"
   ]
  },
  {
   "cell_type": "code",
   "execution_count": 15,
   "metadata": {},
   "outputs": [],
   "source": [
    "class QueueByList:\n",
    "    def __init__(self):\n",
    "        self.queue = []\n",
    "    \n",
    "    def __str__(self):\n",
    "        values = [str(x) for x in self.queue]\n",
    "        return \" \".join(values)\n",
    "    \n",
    "    def isEmpty(self):\n",
    "        return True if len(self.queue) == 0 else False\n",
    "    \n",
    "    def enqueue(self,value):\n",
    "        self.queue.append(value)\n",
    "        return \"The value added successfully\"\n",
    "    \n",
    "    def dequeue (self):\n",
    "        if self.isEmpty():\n",
    "            return \"The queue is empty\"\n",
    "        else:\n",
    "            return self.queue.pop(0)\n",
    "    def peek(self):\n",
    "        return self.queue[0]"
   ]
  },
  {
   "cell_type": "code",
   "execution_count": 16,
   "metadata": {},
   "outputs": [],
   "source": [
    "queueByList = QueueByList()"
   ]
  },
  {
   "cell_type": "code",
   "execution_count": 17,
   "metadata": {},
   "outputs": [
    {
     "data": {
      "text/plain": [
       "True"
      ]
     },
     "execution_count": 17,
     "metadata": {},
     "output_type": "execute_result"
    }
   ],
   "source": [
    "queueByList.isEmpty()"
   ]
  },
  {
   "cell_type": "code",
   "execution_count": 18,
   "metadata": {},
   "outputs": [
    {
     "data": {
      "text/plain": [
       "'The value added successfully'"
      ]
     },
     "execution_count": 18,
     "metadata": {},
     "output_type": "execute_result"
    }
   ],
   "source": [
    "queueByList.enqueue(1)\n",
    "queueByList.enqueue(2)\n",
    "queueByList.enqueue(3)\n"
   ]
  },
  {
   "cell_type": "code",
   "execution_count": 19,
   "metadata": {},
   "outputs": [
    {
     "name": "stdout",
     "output_type": "stream",
     "text": [
      "1 2 3\n"
     ]
    }
   ],
   "source": [
    "print(queueByList)"
   ]
  },
  {
   "cell_type": "code",
   "execution_count": 20,
   "metadata": {},
   "outputs": [
    {
     "data": {
      "text/plain": [
       "1"
      ]
     },
     "execution_count": 20,
     "metadata": {},
     "output_type": "execute_result"
    }
   ],
   "source": [
    "queueByList.peek()"
   ]
  },
  {
   "cell_type": "code",
   "execution_count": 52,
   "metadata": {},
   "outputs": [],
   "source": [
    "class Node:\n",
    "    def __init__(self,value=None):\n",
    "        self.value = value\n",
    "        self.next = None\n",
    "        \n",
    "    def __str__(self):\n",
    "        return str(self.value)\n",
    "        \n",
    "class LinkedList:\n",
    "    def __init__(self):\n",
    "        self.head = None\n",
    "        self.tail = None\n",
    "        \n",
    "    def __iter__(self):\n",
    "        curNode = self.head\n",
    "        while curNode :\n",
    "            yield curNode\n",
    "            curNode = curNode.next\n",
    "\n",
    "class QueueByLinkedList:\n",
    "    def __init__(self):\n",
    "        self.LinkedList = LinkedList()\n",
    "    \n",
    "    def __str__(self):\n",
    "        values = [str(x) for x in self.LinkedList]\n",
    "        return \" \".join(values)\n",
    "    \n",
    "    def isEmpty(self):\n",
    "        return True if self.LinkedList.head == None else False\n",
    "    \n",
    "    def enqueue(self,value):\n",
    "        node = Node(value)\n",
    "        if self.LinkedList.head == None:\n",
    "            self.LinkedList.head = node\n",
    "            self.LinkedList.tail = node\n",
    "            \n",
    "        else:\n",
    "            self.LinkedList.tail.next = node\n",
    "            self.LinkedList.tail = node\n",
    "    def dequeue(self):\n",
    "        if self.LinkedList.head == None:\n",
    "            return \"The queue is empty\"\n",
    "        elif self.LinkedList.head == self.LinkedList.tail:\n",
    "            self.LinkedList.head = None\n",
    "            self.LinkedList.tail = None\n",
    "        else:\n",
    "            tempNode = self.LinkedList.head\n",
    "            self.LinkedList.head = self.LinkedList.head.next\n",
    "            return tempNode.value\n",
    "        \n",
    "    def peek(self):\n",
    "        if self.LinkedList.head == None:\n",
    "            return \"The queue is empty\"\n",
    "        else:\n",
    "            return self.LinkedList.head.value\n",
    "        "
   ]
  },
  {
   "cell_type": "code",
   "execution_count": 53,
   "metadata": {},
   "outputs": [],
   "source": [
    "queueByLinkedList = QueueByLinkedList()"
   ]
  },
  {
   "cell_type": "code",
   "execution_count": 54,
   "metadata": {},
   "outputs": [
    {
     "data": {
      "text/plain": [
       "True"
      ]
     },
     "execution_count": 54,
     "metadata": {},
     "output_type": "execute_result"
    }
   ],
   "source": [
    "queueByLinkedList.isEmpty()"
   ]
  },
  {
   "cell_type": "code",
   "execution_count": 55,
   "metadata": {},
   "outputs": [
    {
     "data": {
      "text/plain": [
       "'The queue is empty'"
      ]
     },
     "execution_count": 55,
     "metadata": {},
     "output_type": "execute_result"
    }
   ],
   "source": [
    "queueByLinkedList.dequeue()"
   ]
  },
  {
   "cell_type": "code",
   "execution_count": 56,
   "metadata": {},
   "outputs": [],
   "source": [
    "queueByLinkedList.enqueue(\"Lion\")\n",
    "queueByLinkedList.enqueue(\"Tiger\")\n",
    "queueByLinkedList.enqueue(\"Elephant\")"
   ]
  },
  {
   "cell_type": "code",
   "execution_count": 57,
   "metadata": {},
   "outputs": [
    {
     "name": "stdout",
     "output_type": "stream",
     "text": [
      "Lion Tiger Elephant\n"
     ]
    }
   ],
   "source": [
    "print(queueByLinkedList)"
   ]
  },
  {
   "cell_type": "code",
   "execution_count": 58,
   "metadata": {},
   "outputs": [
    {
     "data": {
      "text/plain": [
       "'Lion'"
      ]
     },
     "execution_count": 58,
     "metadata": {},
     "output_type": "execute_result"
    }
   ],
   "source": [
    "queueByLinkedList.dequeue()"
   ]
  },
  {
   "cell_type": "code",
   "execution_count": 59,
   "metadata": {},
   "outputs": [
    {
     "name": "stdout",
     "output_type": "stream",
     "text": [
      "Tiger Elephant\n"
     ]
    }
   ],
   "source": [
    "print(queueByLinkedList)"
   ]
  },
  {
   "cell_type": "code",
   "execution_count": 60,
   "metadata": {},
   "outputs": [
    {
     "data": {
      "text/plain": [
       "'Tiger'"
      ]
     },
     "execution_count": 60,
     "metadata": {},
     "output_type": "execute_result"
    }
   ],
   "source": [
    "queueByLinkedList.peek()"
   ]
  },
  {
   "cell_type": "code",
   "execution_count": null,
   "metadata": {},
   "outputs": [],
   "source": []
  }
 ],
 "metadata": {
  "kernelspec": {
   "display_name": "Python 3.9.7 64-bit",
   "language": "python",
   "name": "python3"
  },
  "language_info": {
   "codemirror_mode": {
    "name": "ipython",
    "version": 3
   },
   "file_extension": ".py",
   "mimetype": "text/x-python",
   "name": "python",
   "nbconvert_exporter": "python",
   "pygments_lexer": "ipython3",
   "version": "3.9.7"
  },
  "orig_nbformat": 4,
  "vscode": {
   "interpreter": {
    "hash": "b671c20432fcd147198c92e7f072af9e705f087eb990bee22b07f08caab9f630"
   }
  }
 },
 "nbformat": 4,
 "nbformat_minor": 2
}
