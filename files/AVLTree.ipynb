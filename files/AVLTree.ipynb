{
 "cells": [
  {
   "cell_type": "markdown",
   "metadata": {},
   "source": [
    "An AVL Tree is a self balancing Binary Search Tree where the difference between the height of left and right subtress cannot be more than one for all nodes\n",
    "\n",
    "if anytime heights of left and right subtrees differ by more than one , then rebalancing is done to restore AVL property, this process is called rotation"
   ]
  },
  {
   "cell_type": "code",
   "execution_count": 82,
   "metadata": {},
   "outputs": [],
   "source": [
    "class Node:\n",
    "    def __init__(self,value=None):\n",
    "        self.value = value\n",
    "        self.next = None\n",
    "        \n",
    "    def __str__(self):\n",
    "        return str(self.value)\n",
    "        \n",
    "class LinkedList:\n",
    "    def __init__(self):\n",
    "        self.head = None\n",
    "        self.tail = None\n",
    "        \n",
    "    def __iter__(self):\n",
    "        curNode = self.head\n",
    "        while curNode :\n",
    "            yield curNode\n",
    "            curNode = curNode.next\n",
    "\n",
    "class QueueByLinkedList:\n",
    "    def __init__(self):\n",
    "        self.LinkedList = LinkedList()\n",
    "    \n",
    "    def __str__(self):\n",
    "        values = [str(x) for x in self.LinkedList]\n",
    "        return \" \".join(values)\n",
    "    \n",
    "    def isEmpty(self):\n",
    "        return True if self.LinkedList.head == None else False\n",
    "    \n",
    "    def enqueue(self,value):\n",
    "        node = Node(value)\n",
    "        if self.LinkedList.head == None:\n",
    "            self.LinkedList.head = node\n",
    "            self.LinkedList.tail = node\n",
    "            \n",
    "        else:\n",
    "            self.LinkedList.tail.next = node\n",
    "            self.LinkedList.tail = node\n",
    "    def dequeue(self):\n",
    "        if self.LinkedList.head == None:\n",
    "            return \"The queue is empty\"\n",
    "        elif self.LinkedList.head == self.LinkedList.tail:\n",
    "            tempNode = self.LinkedList.head\n",
    "            self.LinkedList.head = None\n",
    "            self.LinkedList.tail = None\n",
    "            return tempNode.value\n",
    "        else:\n",
    "            tempNode = self.LinkedList.head\n",
    "            self.LinkedList.head = self.LinkedList.head.next\n",
    "            return tempNode.value\n",
    "        \n",
    "    def peek(self):\n",
    "        if self.LinkedList.head == None:\n",
    "            return \"The queue is empty\"\n",
    "        else:\n",
    "            return self.LinkedList.head.value\n",
    "        \n",
    "\n",
    "            "
   ]
  },
  {
   "cell_type": "code",
   "execution_count": 83,
   "metadata": {},
   "outputs": [],
   "source": [
    "class AVLNode:\n",
    "    def __init__(self,value):\n",
    "        self.value = value\n",
    "        self.leftChild = None\n",
    "        self.rightChild = None\n",
    "        self.height = 1\n",
    "        \n",
    "        "
   ]
  },
  {
   "cell_type": "code",
   "execution_count": 84,
   "metadata": {},
   "outputs": [],
   "source": [
    "def preOrderTrversal(rootNode):\n",
    "    if not rootNode:\n",
    "        return \n",
    "    print(rootNode.value)\n",
    "    preOrderTrversal(rootNode.leftChild)\n",
    "    preOrderTrversal(rootNode.rightChild)\n",
    "    "
   ]
  },
  {
   "cell_type": "code",
   "execution_count": 85,
   "metadata": {},
   "outputs": [],
   "source": [
    "def inOrderTraversal(rootNode):\n",
    "    if not rootNode:\n",
    "        return\n",
    "    inOrderTraversal(rootNode.leftChild) \n",
    "    print(rootNode.value)\n",
    "    inOrderTraversal(rootNode.rightChild)\n",
    "    "
   ]
  },
  {
   "cell_type": "code",
   "execution_count": 86,
   "metadata": {},
   "outputs": [],
   "source": [
    "def levelOrderTraversal(rootnode):\n",
    "    if not rootnode:\n",
    "        return \n",
    "    else:\n",
    "        queue = QueueByLinkedList()\n",
    "        queue.enqueue(rootnode)\n",
    "        while not (queue.isEmpty()):\n",
    "            root = queue.dequeue()\n",
    "            print(root.value)\n",
    "            if (root.leftChild) is not None:\n",
    "                queue.enqueue(root.leftChild)\n",
    "            if (root.rightChild) is not None:\n",
    "                queue.enqueue(root.rightChild)\n",
    "        \n",
    "    "
   ]
  },
  {
   "cell_type": "code",
   "execution_count": 87,
   "metadata": {},
   "outputs": [],
   "source": [
    "def searchNode(rootNode,nodeValue):\n",
    "    if rootNode.value == nodeValue:\n",
    "        return \"Value Found\"\n",
    "    elif nodeValue <= rootNode.value:\n",
    "        if rootNode.leftChild.value == nodeValue:\n",
    "            return \"Value Found\"\n",
    "        else:\n",
    "            searchNode(rootNode.leftChild,nodeValue)  \n",
    "    else:\n",
    "        if rootNode.rightChild == nodeValue:\n",
    "            return \"Value Found\"\n",
    "        else:\n",
    "            searchNode(rootNode.rightChild,nodeValue)  \n",
    "        \n",
    "    "
   ]
  },
  {
   "cell_type": "code",
   "execution_count": 88,
   "metadata": {},
   "outputs": [],
   "source": [
    "def getHeight(rootNode):\n",
    "    if not rootNode:\n",
    "        return 0\n",
    "    return rootNode.height"
   ]
  },
  {
   "cell_type": "code",
   "execution_count": 89,
   "metadata": {},
   "outputs": [],
   "source": [
    "def rightRotate(disbalancedNode):\n",
    "    newRoot = disbalancedNode.leftChild\n",
    "    disbalancedNode.leftChild = disbalancedNode.leftChild.rightChild\n",
    "    newRoot.rightChild = disbalancedNode\n",
    "    disbalancedNode.height = 1 + max(getHeight(disbalancedNode.leftChild),getHeight(disbalancedNode.rightChild)) \n",
    "    newRoot.height = 1 + max(getHeight(disbalancedNode.leftChild),getHeight(disbalancedNode.rightChild))  \n",
    "    return newRoot  \n",
    "    "
   ]
  },
  {
   "cell_type": "code",
   "execution_count": 90,
   "metadata": {},
   "outputs": [],
   "source": [
    "def leftRotate(disbalancedNode):\n",
    "    newRoot = disbalancedNode.rightChild\n",
    "    disbalancedNode.rightChild = disbalancedNode.rightChild.leftChild\n",
    "    newRoot.leftChild = disbalancedNode\n",
    "    disbalancedNode.height = 1 + max(getHeight(disbalancedNode.leftChild),getHeight(disbalancedNode.rightChild)) \n",
    "    newRoot.height = 1 + max(getHeight(disbalancedNode.leftChild),getHeight(disbalancedNode.rightChild))  \n",
    "    return newRoot\n",
    "    "
   ]
  },
  {
   "cell_type": "code",
   "execution_count": 91,
   "metadata": {},
   "outputs": [],
   "source": [
    "def getBalance(rootNode):\n",
    "    if not rootNode:\n",
    "        return 0\n",
    "    return getHeight(rootNode.leftChild) - getHeight(rootNode.rightChild)"
   ]
  },
  {
   "cell_type": "code",
   "execution_count": 92,
   "metadata": {},
   "outputs": [],
   "source": [
    "def insertNode(rootNode,nodeValue):\n",
    "    if not rootNode:\n",
    "        return AVLNode(nodeValue)\n",
    "    elif nodeValue < rootNode.value:\n",
    "        rootNode.leftChild = insertNode(rootNode.leftChild,nodeValue)\n",
    "    else:\n",
    "        rootNode.rightChild = insertNode(rootNode.rightChild,nodeValue)\n",
    "        \n",
    "    rootNode.height = 1 + max(getHeight(rootNode.leftChild),getHeight(rootNode.rightChild))\n",
    "    \n",
    "    balance = getBalance(rootNode)\n",
    "    \n",
    "    if balance > 1 and nodeValue < rootNode.leftChild.value:\n",
    "        return rightRotate(rootNode)\n",
    "    if balance > 1 and nodeValue > rootNode.leftChild.value:\n",
    "        rootNode.leftChild = leftRotate(rootNode.leftChild)\n",
    "        return rightRotate(rootNode)\n",
    "    if balance < -1 and nodeValue > rootNode.rightChild.value:\n",
    "        return leftRotate(rootNode)\n",
    "    if balance < -1 and nodeValue < rootNode.rightChild.value:\n",
    "        rootNode.rightChild = rightRotate(rootNode.rightChild)\n",
    "        return leftRotate(rootNode)\n",
    "    return rootNode\n",
    "    "
   ]
  },
  {
   "cell_type": "code",
   "execution_count": 93,
   "metadata": {},
   "outputs": [],
   "source": [
    "newAVL = AVLNode(5)"
   ]
  },
  {
   "cell_type": "code",
   "execution_count": 94,
   "metadata": {},
   "outputs": [],
   "source": [
    "newAVL = insertNode(newAVL,10)\n",
    "newAVL = insertNode(newAVL,15)\n",
    "newAVL = insertNode(newAVL,20)\n",
    "newAVL = insertNode(newAVL,25)\n"
   ]
  },
  {
   "cell_type": "code",
   "execution_count": 95,
   "metadata": {},
   "outputs": [
    {
     "name": "stdout",
     "output_type": "stream",
     "text": [
      "10\n",
      "5\n",
      "20\n",
      "15\n",
      "25\n"
     ]
    }
   ],
   "source": [
    "levelOrderTraversal(newAVL)"
   ]
  },
  {
   "cell_type": "code",
   "execution_count": 96,
   "metadata": {},
   "outputs": [],
   "source": [
    "def getMinValueNode(rootNode):\n",
    "    if rootNode is None or rootNode.leftChild is None:\n",
    "        return rootNode\n",
    "    return getMinValueNode(rootNode.leftChild)\n"
   ]
  },
  {
   "cell_type": "code",
   "execution_count": 136,
   "metadata": {},
   "outputs": [],
   "source": [
    "def deleteNode(rootNode,nodeValue):\n",
    "    if not rootNode:\n",
    "        return rootNode\n",
    "    else:\n",
    "        if nodeValue < rootNode.value:\n",
    "            rootNode.leftChild = deleteNode(rootNode.leftChild,nodeValue)\n",
    "        elif nodeValue > rootNode.value:\n",
    "            rootNode.rightChild = deleteNode(rootNode.rightChild,nodeValue)\n",
    "        else:\n",
    "            if rootNode.leftChild is None:\n",
    "                temp = rootNode.rightChild\n",
    "                rootNode = None\n",
    "                return temp\n",
    "            elif rootNode.rightChild is None:\n",
    "                temp = rootNode.leftChild\n",
    "                rootNode = None\n",
    "                return temp\n",
    "            temp = getMinValueNode(rootNode.rightChild)\n",
    "            rootNode.value = temp.value\n",
    "            rootNode.rightChild = deleteNode(rootNode.rightChild,temp.value)\n",
    "        \n",
    "        balance = getBalance(rootNode)\n",
    "        \n",
    "        if balance > 1 and getBalance(rootNode.leftChild) >= 0:\n",
    "            return rightRotate(rootNode)\n",
    "        if balance < -1 and getBalance(rootNode.rightChild) <= 0:\n",
    "            return leftRotate(rootNode)\n",
    "        if balance > 1 and getBalance(rootNode.leftChild) < 0:\n",
    "            rootNode.leftChild = leftRotate(rootNode.leftChild)\n",
    "            return rightRotate(rootNode)\n",
    "        if balance < -1 and getBalance(rootNode.rightChild) > 0:\n",
    "            rootNode.rightChild = rightRotate(rootNode.rightChild)\n",
    "            return leftRotate(rootNode)\n",
    "    return rootNode\n",
    "\n",
    "        \n",
    "            "
   ]
  },
  {
   "cell_type": "code",
   "execution_count": 131,
   "metadata": {},
   "outputs": [],
   "source": [
    "avlNode = AVLNode(5)"
   ]
  },
  {
   "cell_type": "code",
   "execution_count": 132,
   "metadata": {},
   "outputs": [],
   "source": [
    "avlNode = insertNode(avlNode,10)\n",
    "avlNode = insertNode(avlNode,15)\n",
    "avlNode = insertNode(avlNode,20)\n",
    "avlNode = insertNode(avlNode,25)"
   ]
  },
  {
   "cell_type": "code",
   "execution_count": 133,
   "metadata": {},
   "outputs": [
    {
     "name": "stdout",
     "output_type": "stream",
     "text": [
      "10\n",
      "5\n",
      "20\n",
      "15\n",
      "25\n"
     ]
    }
   ],
   "source": [
    "levelOrderTraversal(avlNode)"
   ]
  },
  {
   "cell_type": "code",
   "execution_count": 137,
   "metadata": {},
   "outputs": [
    {
     "name": "stdout",
     "output_type": "stream",
     "text": [
      "10\n",
      "5\n",
      "20\n",
      "15\n"
     ]
    }
   ],
   "source": [
    "levelOrderTraversal(avlNode)"
   ]
  },
  {
   "cell_type": "code",
   "execution_count": 138,
   "metadata": {},
   "outputs": [
    {
     "data": {
      "text/plain": [
       "<__main__.AVLNode at 0x175b4bec100>"
      ]
     },
     "execution_count": 138,
     "metadata": {},
     "output_type": "execute_result"
    }
   ],
   "source": [
    "deleteNode(avlNode,10)"
   ]
  },
  {
   "cell_type": "code",
   "execution_count": 139,
   "metadata": {},
   "outputs": [
    {
     "name": "stdout",
     "output_type": "stream",
     "text": [
      "15\n",
      "5\n",
      "20\n"
     ]
    }
   ],
   "source": [
    "levelOrderTraversal(avlNode)"
   ]
  },
  {
   "cell_type": "code",
   "execution_count": 140,
   "metadata": {},
   "outputs": [],
   "source": [
    "avlNode = insertNode(avlNode,10)\n",
    "avlNode = insertNode(avlNode,25)"
   ]
  },
  {
   "cell_type": "code",
   "execution_count": 141,
   "metadata": {},
   "outputs": [
    {
     "name": "stdout",
     "output_type": "stream",
     "text": [
      "15\n",
      "5\n",
      "20\n",
      "10\n",
      "25\n"
     ]
    }
   ],
   "source": [
    "levelOrderTraversal(avlNode)"
   ]
  },
  {
   "cell_type": "code",
   "execution_count": null,
   "metadata": {},
   "outputs": [],
   "source": []
  }
 ],
 "metadata": {
  "kernelspec": {
   "display_name": "Python 3.9.7 64-bit",
   "language": "python",
   "name": "python3"
  },
  "language_info": {
   "codemirror_mode": {
    "name": "ipython",
    "version": 3
   },
   "file_extension": ".py",
   "mimetype": "text/x-python",
   "name": "python",
   "nbconvert_exporter": "python",
   "pygments_lexer": "ipython3",
   "version": "3.9.7"
  },
  "orig_nbformat": 4,
  "vscode": {
   "interpreter": {
    "hash": "b671c20432fcd147198c92e7f072af9e705f087eb990bee22b07f08caab9f630"
   }
  }
 },
 "nbformat": 4,
 "nbformat_minor": 2
}
