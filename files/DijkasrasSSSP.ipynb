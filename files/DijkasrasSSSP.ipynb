{
 "cells": [
  {
   "cell_type": "code",
   "execution_count": 11,
   "metadata": {},
   "outputs": [],
   "source": [
    "from collections import defaultdict\n",
    "\n",
    "class Graph:\n",
    "    def __init__(self) :\n",
    "        self.nodes = set()\n",
    "        self.edges= defaultdict(list)\n",
    "        self.distances = {}\n",
    "    \n",
    "    def addNode(self,value):\n",
    "        self.nodes.add(value)\n",
    "    \n",
    "    def addEdge(self,fromNode,toNode,distance):\n",
    "        self.edges[fromNode].append(toNode)\n",
    "        self.distances[(fromNode,toNode)] = distance\n",
    "    \n",
    "def dijkstra(graph,initial):\n",
    "    visited ={initial : 0}\n",
    "    path = defaultdict(list)\n",
    "    \n",
    "    nodes = set(graph.nodes)\n",
    "    \n",
    "    while nodes:\n",
    "        minnode = None\n",
    "        for node in nodes:\n",
    "            if node in visited:\n",
    "                if minnode is None:\n",
    "                    minnode = node\n",
    "                elif visited[node] < visited[minnode]:\n",
    "                    minnode = node\n",
    "        if minnode is None:\n",
    "            break\n",
    "        \n",
    "        nodes.remove(minnode)\n",
    "        currentWeight = visited[minnode]\n",
    "        \n",
    "        for edge in graph.edges[minnode]:\n",
    "            weight = currentWeight + graph.distances[(minnode,edge)]\n",
    "            if edge not in visited or weight < visited[edge]:\n",
    "                visited[edge] = weight\n",
    "                path[edge].append(minnode)\n",
    "                \n",
    "    return visited,path\n"
   ]
  },
  {
   "cell_type": "code",
   "execution_count": 12,
   "metadata": {},
   "outputs": [],
   "source": [
    "customGraph = Graph()"
   ]
  },
  {
   "cell_type": "code",
   "execution_count": 13,
   "metadata": {},
   "outputs": [],
   "source": [
    "customGraph.addNode(\"A\")\n",
    "customGraph.addNode(\"B\")\n",
    "customGraph.addNode(\"C\")\n",
    "customGraph.addNode(\"D\")\n",
    "customGraph.addNode(\"E\")\n",
    "customGraph.addNode(\"F\")\n",
    "customGraph.addNode(\"G\")\n"
   ]
  },
  {
   "cell_type": "code",
   "execution_count": 14,
   "metadata": {},
   "outputs": [],
   "source": [
    "customGraph.addEdge(\"A\",\"B\",2)\n",
    "customGraph.addEdge(\"A\",\"C\",5)\n",
    "customGraph.addEdge(\"B\",\"C\",6)\n",
    "customGraph.addEdge(\"B\",\"D\",1)\n",
    "customGraph.addEdge(\"B\",\"E\",3)\n",
    "customGraph.addEdge(\"C\",\"F\",8)\n",
    "customGraph.addEdge(\"D\",\"E\",4)\n",
    "customGraph.addEdge(\"E\",\"G\",9)\n",
    "customGraph.addEdge(\"F\",\"G\",7)"
   ]
  },
  {
   "cell_type": "code",
   "execution_count": 15,
   "metadata": {},
   "outputs": [
    {
     "data": {
      "text/plain": [
       "({'A': 0, 'B': 2, 'C': 5, 'D': 3, 'E': 5, 'G': 14, 'F': 13},\n",
       " defaultdict(list,\n",
       "             {'B': ['A'],\n",
       "              'C': ['A'],\n",
       "              'D': ['B'],\n",
       "              'E': ['B'],\n",
       "              'G': ['E'],\n",
       "              'F': ['C']}))"
      ]
     },
     "execution_count": 15,
     "metadata": {},
     "output_type": "execute_result"
    }
   ],
   "source": [
    "dijkstra(customGraph,\"A\")"
   ]
  },
  {
   "cell_type": "code",
   "execution_count": null,
   "metadata": {},
   "outputs": [],
   "source": []
  }
 ],
 "metadata": {
  "kernelspec": {
   "display_name": "Python 3.9.7 64-bit",
   "language": "python",
   "name": "python3"
  },
  "language_info": {
   "codemirror_mode": {
    "name": "ipython",
    "version": 3
   },
   "file_extension": ".py",
   "mimetype": "text/x-python",
   "name": "python",
   "nbconvert_exporter": "python",
   "pygments_lexer": "ipython3",
   "version": "3.9.7"
  },
  "orig_nbformat": 4,
  "vscode": {
   "interpreter": {
    "hash": "b671c20432fcd147198c92e7f072af9e705f087eb990bee22b07f08caab9f630"
   }
  }
 },
 "nbformat": 4,
 "nbformat_minor": 2
}
