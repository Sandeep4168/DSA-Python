{
 "cells": [
  {
   "cell_type": "code",
   "execution_count": 1,
   "metadata": {},
   "outputs": [],
   "source": [
    "INF = 9999\n",
    "# Printing the solution\n",
    "def printSolution(nV, distance):\n",
    "    for i in range(nV):\n",
    "        for j in range(nV):\n",
    "            if(distance[i][j] == INF):\n",
    "                print(\"INF\", end=\" \")\n",
    "            else:\n",
    "                print(distance[i][j], end=\"  \")\n",
    "        print(\" \")\n",
    "\n",
    "\n",
    "def floydWarshall(nV, G):\n",
    "    distance = G\n",
    "    for k in range(nV):\n",
    "        for i in range(nV):\n",
    "            for j in range(nV):\n",
    "                distance[i][j] = min(distance[i][j], distance[i][k]+distance[k][j])\n",
    "    \n",
    "    printSolution(nV, distance)"
   ]
  },
  {
   "cell_type": "code",
   "execution_count": 2,
   "metadata": {},
   "outputs": [
    {
     "name": "stdout",
     "output_type": "stream",
     "text": [
      "0  3  4  1   \n",
      "5  0  1  6   \n",
      "4  7  0  5   \n",
      "7  2  3  1   \n"
     ]
    }
   ],
   "source": [
    "G = [[0, 8, INF,1],\n",
    "    [INF, 0, 1,INF],\n",
    "    [4, INF, 0,INF],\n",
    "    [INF, 2, 9,1]\n",
    "    ]\n",
    "\n",
    "floydWarshall(4, G)"
   ]
  },
  {
   "cell_type": "code",
   "execution_count": null,
   "metadata": {},
   "outputs": [],
   "source": []
  }
 ],
 "metadata": {
  "kernelspec": {
   "display_name": "Python 3.9.7 64-bit",
   "language": "python",
   "name": "python3"
  },
  "language_info": {
   "codemirror_mode": {
    "name": "ipython",
    "version": 3
   },
   "file_extension": ".py",
   "mimetype": "text/x-python",
   "name": "python",
   "nbconvert_exporter": "python",
   "pygments_lexer": "ipython3",
   "version": "3.9.7"
  },
  "orig_nbformat": 4,
  "vscode": {
   "interpreter": {
    "hash": "b671c20432fcd147198c92e7f072af9e705f087eb990bee22b07f08caab9f630"
   }
  }
 },
 "nbformat": 4,
 "nbformat_minor": 2
}
