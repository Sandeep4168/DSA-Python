{
 "cells": [
  {
   "cell_type": "markdown",
   "metadata": {},
   "source": [
    "Sorting is an algorithm for arranging objects in ascending or descending\n",
    "\n",
    "Types of Sorting:\n",
    "- **Place**:\n",
    "    - In Place Sorting: In this algorithm we do not need an extra space i.e. Bubble sort\n",
    "    - Out Place Sorting: Extra space is need for sorting i.e. Merge Sort\n",
    "- **Stability**:\n",
    "    - Stable : If a sorting algorithms do not change the sequence of the similar contents in which they appear i.e. Insertion Sort\n",
    "    - Unstable : If a sorting algorithm , after sorting the contents chnages the sequence of the similar content n which they appear. i.e. quick sort\n",
    "    \n",
    "\n"
   ]
  },
  {
   "cell_type": "code",
   "execution_count": 1,
   "metadata": {},
   "outputs": [],
   "source": [
    "def bubbleSort(customList):\n",
    "    for i in range(len(customList) - 1):\n",
    "        for j in range(len(customList) - i -1):\n",
    "            if customList[j] > customList[j+1]:\n",
    "                customList[j],customList[j+1] = customList[j+1],customList[j]\n",
    "    return customList"
   ]
  },
  {
   "cell_type": "code",
   "execution_count": 2,
   "metadata": {},
   "outputs": [
    {
     "data": {
      "text/plain": [
       "[1, 2, 3, 4, 5, 6]"
      ]
     },
     "execution_count": 2,
     "metadata": {},
     "output_type": "execute_result"
    }
   ],
   "source": [
    "bubbleSort([5,2,4,3,6,1])"
   ]
  },
  {
   "cell_type": "code",
   "execution_count": 18,
   "metadata": {},
   "outputs": [],
   "source": [
    "def selectionSort(customList):\n",
    "    for i in range(len(customList)):\n",
    "        min_value = i\n",
    "        for j in range(i+1,len(customList)):\n",
    "            if customList[min_value] > customList[j]:\n",
    "                min_value = j\n",
    "        customList[i],customList[min_value] = customList[min_value],customList[i]\n",
    "    return customList"
   ]
  },
  {
   "cell_type": "code",
   "execution_count": 19,
   "metadata": {},
   "outputs": [
    {
     "data": {
      "text/plain": [
       "[1, 2, 3, 4, 5, 6]"
      ]
     },
     "execution_count": 19,
     "metadata": {},
     "output_type": "execute_result"
    }
   ],
   "source": [
    "selectionSort([5,2,4,3,6,1])"
   ]
  },
  {
   "cell_type": "code",
   "execution_count": 3,
   "metadata": {},
   "outputs": [],
   "source": [
    "def insertionSort(customList):\n",
    "    for i in range(1,len(customList)):\n",
    "        key = customList[i]\n",
    "        j = i - 1\n",
    "        while j >= 0 and key < customList[j]:\n",
    "            customList[j+1] = customList[j]\n",
    "            j -= 1\n",
    "        customList[j+1] = key\n",
    "    return customList\n",
    "             "
   ]
  },
  {
   "cell_type": "code",
   "execution_count": 4,
   "metadata": {},
   "outputs": [
    {
     "data": {
      "text/plain": [
       "[1, 2, 3, 4, 5, 6]"
      ]
     },
     "execution_count": 4,
     "metadata": {},
     "output_type": "execute_result"
    }
   ],
   "source": [
    "insertionSort([5,2,4,3,6,1])"
   ]
  },
  {
   "cell_type": "code",
   "execution_count": 16,
   "metadata": {},
   "outputs": [],
   "source": [
    "def merge (nums1,nums2):\n",
    "    merged = []\n",
    "    i , j = 0, 0\n",
    "\n",
    "    while i < len(nums1) and j < len(nums2):\n",
    "        \n",
    "        if nums1[i] <= nums2[j]:\n",
    "            merged.append(nums1[i])\n",
    "            i += 1\n",
    "        else:\n",
    "            merged.append(nums2[j])\n",
    "            j += 1\n",
    "        nums1_tail = nums1[i:]\n",
    "        nums2_tail = nums2[j:]\n",
    "    return merged+nums1_tail+nums2_tail\n"
   ]
  },
  {
   "cell_type": "code",
   "execution_count": 17,
   "metadata": {},
   "outputs": [],
   "source": [
    "def mergeSort(customList):\n",
    "    if len(customList) <= 1:\n",
    "        return customList\n",
    "    \n",
    "    m = len(customList) // 2\n",
    "    left = customList[:m]\n",
    "    right = customList[m:]\n",
    "    \n",
    "    left_sorted , right_sorted = mergeSort(left),mergeSort(right)\n",
    "    \n",
    "    sorted_nums = merge(left_sorted,right_sorted)\n",
    "    \n",
    "    return sorted_nums"
   ]
  },
  {
   "cell_type": "code",
   "execution_count": 18,
   "metadata": {},
   "outputs": [
    {
     "data": {
      "text/plain": [
       "[1, 2, 3, 4, 5, 6]"
      ]
     },
     "execution_count": 18,
     "metadata": {},
     "output_type": "execute_result"
    }
   ],
   "source": [
    "mergeSort([5,2,4,3,6,1])"
   ]
  },
  {
   "cell_type": "code",
   "execution_count": 19,
   "metadata": {},
   "outputs": [],
   "source": [
    "def partition(customList,low,high):\n",
    "    i = low - 1\n",
    "    pivot = customList[high]\n",
    "    \n",
    "    for j in range(low,high):\n",
    "        if customList[j] <= pivot:\n",
    "            i += 1\n",
    "            customList[i],customList[j] = customList[j],customList[i]\n",
    "        customList[i+1],customList[high] = customList[high],customList[i+1]\n",
    "    return (i+1)"
   ]
  },
  {
   "cell_type": "code",
   "execution_count": 24,
   "metadata": {},
   "outputs": [],
   "source": [
    "def quickSort(customList,low,high):\n",
    "    \n",
    "    if low < high:\n",
    "        pi = partition(customList,low,high)\n",
    "        quickSort(customList,low,pi-1)\n",
    "        quickSort(customList,pi+1,high)\n",
    "    return customList\n",
    "        "
   ]
  },
  {
   "cell_type": "code",
   "execution_count": 25,
   "metadata": {},
   "outputs": [
    {
     "data": {
      "text/plain": [
       "[1, 2, 3, 4, 5, 6]"
      ]
     },
     "execution_count": 25,
     "metadata": {},
     "output_type": "execute_result"
    }
   ],
   "source": [
    "quickSort([5,2,4,3,6,1],0,5)"
   ]
  },
  {
   "cell_type": "code",
   "execution_count": null,
   "metadata": {},
   "outputs": [],
   "source": []
  }
 ],
 "metadata": {
  "kernelspec": {
   "display_name": "Python 3.9.7 64-bit",
   "language": "python",
   "name": "python3"
  },
  "language_info": {
   "codemirror_mode": {
    "name": "ipython",
    "version": 3
   },
   "file_extension": ".py",
   "mimetype": "text/x-python",
   "name": "python",
   "nbconvert_exporter": "python",
   "pygments_lexer": "ipython3",
   "version": "3.9.7"
  },
  "orig_nbformat": 4,
  "vscode": {
   "interpreter": {
    "hash": "b671c20432fcd147198c92e7f072af9e705f087eb990bee22b07f08caab9f630"
   }
  }
 },
 "nbformat": 4,
 "nbformat_minor": 2
}
