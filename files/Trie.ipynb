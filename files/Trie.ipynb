{
 "cells": [
  {
   "cell_type": "markdown",
   "metadata": {},
   "source": [
    "Trie is a tree-based data structure that organizes information in a hierrchy\n",
    "\n",
    "Properties:\n",
    "- It is typically used to store or search strings in space and time effiecient way\n",
    "- In any node of trie can store non repetetive multiple characters\n",
    "- Every node stores link of the next character of the string\n",
    "- Every node keeps track of \"end of string\""
   ]
  },
  {
   "cell_type": "code",
   "execution_count": 25,
   "metadata": {},
   "outputs": [],
   "source": [
    "from lib2to3.pytree import Node\n",
    "\n",
    "\n",
    "class TrieNode:\n",
    "    def __init__(self):\n",
    "        self.children = {}\n",
    "        self.endOfString = False\n",
    "        \n",
    "class Trie:\n",
    "    def __init__(self):\n",
    "        self.rootNode = TrieNode()\n",
    "\n",
    "    def insertString(self,word):\n",
    "        current = self.rootNode\n",
    "        for i in word:\n",
    "            ch = i\n",
    "            node = current.children.get(ch)\n",
    "            if node == None:\n",
    "                node = TrieNode()\n",
    "                current.children.update({ch:node})\n",
    "\n",
    "            current = node\n",
    "        current.endOfString = True\n",
    "        return \"The value has been added successfully\"\n",
    "    def searchString(self, word):\n",
    "        current = self.rootNode\n",
    "        for i in word:\n",
    "            node = current.children.get(i)\n",
    "            if node == None:\n",
    "                return False\n",
    "            current = node\n",
    "        \n",
    "        if current.endOfString == True:\n",
    "            return True\n",
    "        else:\n",
    "            return False\n",
    "        \n",
    "def deleteString(rootnode,word,index):\n",
    "    ch = word[index]\n",
    "    currentNode = rootnode.children.get(ch)\n",
    "    canThisNodeBeDeleted = False\n",
    "    \n",
    "    if len(currentNode.children) > 1:\n",
    "        deleteString(currentNode,word,index + 1)\n",
    "        return False\n",
    "    \n",
    "    if index == len(word) - 1 :\n",
    "        if len(currentNode.children) >= 1:\n",
    "            currentNode.endOfString = False\n",
    "            return False\n",
    "        else:\n",
    "            rootnode.children.pop()\n",
    "            return True\n",
    "    if currentNode.endOfString == True:\n",
    "        deleteString(currentNode,word,index + 1)\n",
    "        return False\n",
    "    canThisNodeBeDeleted = deleteString(currentNode,word,index + 1)\n",
    "    \n",
    "    if canThisNodeBeDeleted == True:\n",
    "        rootnode.children.pop()\n",
    "        return True\n",
    "    else:\n",
    "        return False\n",
    "              "
   ]
  },
  {
   "cell_type": "code",
   "execution_count": 26,
   "metadata": {},
   "outputs": [],
   "source": [
    "trie = Trie()"
   ]
  },
  {
   "cell_type": "code",
   "execution_count": 27,
   "metadata": {},
   "outputs": [
    {
     "data": {
      "text/plain": [
       "'The value has been added successfully'"
      ]
     },
     "execution_count": 27,
     "metadata": {},
     "output_type": "execute_result"
    }
   ],
   "source": [
    "trie.insertString(\"APP\")"
   ]
  },
  {
   "cell_type": "code",
   "execution_count": 28,
   "metadata": {},
   "outputs": [
    {
     "data": {
      "text/plain": [
       "'The value has been added successfully'"
      ]
     },
     "execution_count": 28,
     "metadata": {},
     "output_type": "execute_result"
    }
   ],
   "source": [
    "trie.insertString(\"APPLE\")"
   ]
  },
  {
   "cell_type": "code",
   "execution_count": 29,
   "metadata": {},
   "outputs": [
    {
     "data": {
      "text/plain": [
       "True"
      ]
     },
     "execution_count": 29,
     "metadata": {},
     "output_type": "execute_result"
    }
   ],
   "source": [
    "trie.searchString(\"APP\")"
   ]
  },
  {
   "cell_type": "code",
   "execution_count": 30,
   "metadata": {},
   "outputs": [
    {
     "data": {
      "text/plain": [
       "False"
      ]
     },
     "execution_count": 30,
     "metadata": {},
     "output_type": "execute_result"
    }
   ],
   "source": [
    "deleteString(trie.rootNode,\"APP\",0)"
   ]
  },
  {
   "cell_type": "code",
   "execution_count": 31,
   "metadata": {},
   "outputs": [
    {
     "data": {
      "text/plain": [
       "False"
      ]
     },
     "execution_count": 31,
     "metadata": {},
     "output_type": "execute_result"
    }
   ],
   "source": [
    "trie.searchString(\"APP\")"
   ]
  },
  {
   "cell_type": "code",
   "execution_count": null,
   "metadata": {},
   "outputs": [],
   "source": []
  }
 ],
 "metadata": {
  "kernelspec": {
   "display_name": "Python 3.9.7 64-bit",
   "language": "python",
   "name": "python3"
  },
  "language_info": {
   "codemirror_mode": {
    "name": "ipython",
    "version": 3
   },
   "file_extension": ".py",
   "mimetype": "text/x-python",
   "name": "python",
   "nbconvert_exporter": "python",
   "pygments_lexer": "ipython3",
   "version": "3.9.7"
  },
  "orig_nbformat": 4,
  "vscode": {
   "interpreter": {
    "hash": "b671c20432fcd147198c92e7f072af9e705f087eb990bee22b07f08caab9f630"
   }
  }
 },
 "nbformat": 4,
 "nbformat_minor": 2
}
