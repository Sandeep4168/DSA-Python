{
 "cells": [
  {
   "cell_type": "markdown",
   "metadata": {},
   "source": [
    "A binary heap is either Min Heap or Max Heap. In a Min Binary Heap, The Key at the root must be minimum among all keys present in Binary Heap. The same property must be recursively true for nodes in Binary Tree\n",
    "\n",
    "Its a complete tree(All levels are completely filled except possibly the last level and the last level has all keys as left as possible). This property of binary heap makes them suitables to be stored in an array."
   ]
  },
  {
   "cell_type": "code",
   "execution_count": 21,
   "metadata": {},
   "outputs": [],
   "source": [
    "class Heap:\n",
    "    def __init__(self,size):\n",
    "        self.customList = (size + 1) * [None]\n",
    "        self.heapSize = 0\n",
    "        self.maxSize = size + 1\n",
    "        \n",
    "    def getHeapSize(self):\n",
    "        return self.heapSize\n",
    "    \n",
    "    def print(self):\n",
    "        if self.customList is None:\n",
    "            return \n",
    "        else:\n",
    "            for i in range(1,self.heapSize + 1):\n",
    "                print(self.customList[i])\n",
    "                \n",
    "    def HeapifyTreeInsert(self,index,heapType):\n",
    "        parentIndex = int(index / 2)\n",
    "        if index <= 1:\n",
    "            return \n",
    "        if heapType == \"Min\":\n",
    "            if self.customList[index] < self.customList[parentIndex]:\n",
    "                temp = self.customList[index]\n",
    "                self.customList[index] = self.customList[parentIndex]\n",
    "                self.customList[parentIndex] = temp\n",
    "            self.HeapifyTreeInsert(parentIndex,heapType)\n",
    "        elif heapType == \"Max\":\n",
    "            if self.customList[index] > self.customList[parentIndex]:\n",
    "                temp = self.customList[index]\n",
    "                self.customList[index] = self.customList[parentIndex]\n",
    "                self.customList[parentIndex] = temp\n",
    "            self.HeapifyTreeInsert(parentIndex,heapType)\n",
    "    \n",
    "    def insertNode(self,nodeValue,heapType):\n",
    "        if (self.heapSize + 1) == self.maxSize:\n",
    "            return \"The heap is full\"\n",
    "        else:\n",
    "            self.customList[self.heapSize + 1] = nodeValue\n",
    "            self.heapSize += 1\n",
    "            self.HeapifyTreeInsert(self.heapSize,heapType)\n",
    "            return \"The value has been added successfully\"\n",
    "    \n",
    "    def heapifyTreeExtract(self,index,heapType):\n",
    "        leftIndex = index * 2\n",
    "        rightIndex = index * 2 + 1\n",
    "        swapChild = 0\n",
    "        \n",
    "        if self.heapSize < leftIndex:\n",
    "            return\n",
    "        \n",
    "        elif self.heapSize == leftIndex:\n",
    "            if heapType == \"Min\":\n",
    "                if self.customList[index] > self.customList[leftIndex]:\n",
    "                    temp = self.customList[index]\n",
    "                    self.customList[index] = self.customList[leftIndex]\n",
    "                    self.customList[leftIndex] = temp\n",
    "                return\n",
    "            else:\n",
    "                if self.customList[index] < self.customList[leftIndex]:\n",
    "                    temp = self.customList[index]\n",
    "                    self.customList[index] = self.customList[leftIndex]\n",
    "                    self.customList[leftIndex] = temp\n",
    "                return\n",
    "        else:\n",
    "            if heapType == \"Min\":\n",
    "                if self.customList[leftIndex] < self.customList[rightIndex]:\n",
    "                    swapChild = leftIndex\n",
    "                else:\n",
    "                    swapChild = rightIndex\n",
    "                if self.customList[index] > self.customList[swapChild]:\n",
    "                    temp = self.customList[index]\n",
    "                    self.customList[index] = self.customList[swapChild]\n",
    "                    self.customList[swapChild] = temp\n",
    "                \n",
    "            else:\n",
    "                if self.customList[leftIndex] > self.customList[rightIndex]:\n",
    "                    swapChild = leftIndex\n",
    "                else:\n",
    "                    swapChild = rightIndex\n",
    "                if self.customList[index] < self.customList[swapChild]:\n",
    "                    temp = self.customList[index]\n",
    "                    self.customList[index] = self.customList[swapChild]\n",
    "                    self.customList[swapChild] = temp\n",
    "                    \n",
    "        self.heapifyTreeExtract(swapChild,heapType)\n",
    "        \n",
    "    def extractNode(self,heapType):\n",
    "        if self.heapSize == 0:\n",
    "            return\n",
    "        else:\n",
    "            extractedNode = self.customList[1]\n",
    "            self.customList[1] = self.customList[self.heapSize]\n",
    "            self.customList[self.heapSize] = None\n",
    "            self.heapSize -= 1\n",
    "            self.heapifyTreeExtract(1,heapType)\n",
    "            return extractedNode\n",
    "        \n"
   ]
  },
  {
   "cell_type": "code",
   "execution_count": 22,
   "metadata": {},
   "outputs": [],
   "source": [
    "heap = Heap(5)"
   ]
  },
  {
   "cell_type": "code",
   "execution_count": 23,
   "metadata": {},
   "outputs": [
    {
     "data": {
      "text/plain": [
       "'The value has been added successfully'"
      ]
     },
     "execution_count": 23,
     "metadata": {},
     "output_type": "execute_result"
    }
   ],
   "source": [
    "heap.insertNode(1,\"Min\")"
   ]
  },
  {
   "cell_type": "code",
   "execution_count": 24,
   "metadata": {},
   "outputs": [
    {
     "data": {
      "text/plain": [
       "'The value has been added successfully'"
      ]
     },
     "execution_count": 24,
     "metadata": {},
     "output_type": "execute_result"
    }
   ],
   "source": [
    "heap.insertNode(2,\"Min\")\n",
    "heap.insertNode(3,\"Min\")\n",
    "heap.insertNode(4,\"Min\")\n",
    "heap.insertNode(5,\"Min\")"
   ]
  },
  {
   "cell_type": "code",
   "execution_count": 25,
   "metadata": {},
   "outputs": [
    {
     "name": "stdout",
     "output_type": "stream",
     "text": [
      "1\n",
      "2\n",
      "3\n",
      "4\n",
      "5\n"
     ]
    }
   ],
   "source": [
    "heap.print()"
   ]
  },
  {
   "cell_type": "code",
   "execution_count": 26,
   "metadata": {},
   "outputs": [
    {
     "data": {
      "text/plain": [
       "1"
      ]
     },
     "execution_count": 26,
     "metadata": {},
     "output_type": "execute_result"
    }
   ],
   "source": [
    "heap.extractNode(\"Min\")"
   ]
  },
  {
   "cell_type": "code",
   "execution_count": 27,
   "metadata": {},
   "outputs": [
    {
     "name": "stdout",
     "output_type": "stream",
     "text": [
      "2\n",
      "4\n",
      "3\n",
      "5\n"
     ]
    }
   ],
   "source": [
    "heap.print()"
   ]
  },
  {
   "cell_type": "code",
   "execution_count": null,
   "metadata": {},
   "outputs": [],
   "source": []
  }
 ],
 "metadata": {
  "kernelspec": {
   "display_name": "Python 3.9.7 64-bit",
   "language": "python",
   "name": "python3"
  },
  "language_info": {
   "codemirror_mode": {
    "name": "ipython",
    "version": 3
   },
   "file_extension": ".py",
   "mimetype": "text/x-python",
   "name": "python",
   "nbconvert_exporter": "python",
   "pygments_lexer": "ipython3",
   "version": "3.9.7"
  },
  "orig_nbformat": 4,
  "vscode": {
   "interpreter": {
    "hash": "b671c20432fcd147198c92e7f072af9e705f087eb990bee22b07f08caab9f630"
   }
  }
 },
 "nbformat": 4,
 "nbformat_minor": 2
}
