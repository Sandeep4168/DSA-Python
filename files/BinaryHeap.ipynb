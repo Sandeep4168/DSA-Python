{
 "cells": [
  {
   "cell_type": "markdown",
   "metadata": {},
   "source": [
    "A binary heap is either Min Heap or Max Heap. In a Min Binary Heap, The Key at the root must be minimum among all keys present in Binary Heap. The same property must be recursively true for nodes in Binary Tree\n",
    "\n",
    "Its a complete tree(All levels are completely filled except possibly the last level and the last level has all keys as left as possible). This property of binary heap makes them suitables to be stored in an array."
   ]
  },
  {
   "cell_type": "code",
   "execution_count": 1,
   "metadata": {},
   "outputs": [],
   "source": [
    "class Heap:\n",
    "    def __init__(self,size):\n",
    "        self.customList = (size + 1) * [None]\n",
    "        self.heapSize = 0\n",
    "        self.maxSize = size + 1\n",
    "        \n",
    "    def getHeapSize(self):\n",
    "        return self.getHeapSize\n",
    "    \n",
    "    def print(self):\n",
    "        if self.customList is None:\n",
    "            return \n",
    "        else:\n",
    "            for i in range(self.heapSize + 1):\n",
    "                print(self.customList[i])\n",
    "                \n",
    "    def HeapifyTreeInsert(self,index,heapType):\n",
    "        parentIndex = int(index / 2)\n",
    "        if index <= 1:\n",
    "            return \n",
    "        if heapType == \"Min\":\n",
    "            if self.customList[index] < self.customList[parentIndex]:\n",
    "                temp = self.customList[index]\n",
    "                self.customList[index] = self.customList[parentIndex]\n",
    "                self.customList[parentIndex] = temp\n",
    "            self.HeapifyTreeInsert(index,heapType)\n",
    "        elif heapType == \"Max\":\n",
    "            if self.customList[index] > self.customList[parentIndex]:\n",
    "                temp = self.customList[index]\n",
    "                self.customList[index] = self.customList[parentIndex]\n",
    "                self.customList[parentIndex] = temp\n",
    "            self.HeapifyTreeInsert(index,heapType)\n",
    "    \n",
    "    def insertNode(self,nodeValue,heapType):\n",
    "        if (self.heapSize + 1) == self.maxSize:\n",
    "            return \"The heap is full\"\n",
    "        else:\n",
    "            self.customList[self.heapSize + 1] = nodeValue\n",
    "            self.heapSize += 1\n",
    "            self.HeapifyTreeInsert(self.heapSize,heapType)\n",
    "            return \"The value has been added successfully\"\n"
   ]
  },
  {
   "cell_type": "code",
   "execution_count": 2,
   "metadata": {},
   "outputs": [],
   "source": [
    "heap = Heap(8)"
   ]
  },
  {
   "cell_type": "code",
   "execution_count": null,
   "metadata": {},
   "outputs": [],
   "source": [
    "heap.insertNode(1,\"Min\")\n"
   ]
  },
  {
   "cell_type": "code",
   "execution_count": null,
   "metadata": {},
   "outputs": [],
   "source": []
  }
 ],
 "metadata": {
  "kernelspec": {
   "display_name": "Python 3.9.7 64-bit",
   "language": "python",
   "name": "python3"
  },
  "language_info": {
   "codemirror_mode": {
    "name": "ipython",
    "version": 3
   },
   "file_extension": ".py",
   "mimetype": "text/x-python",
   "name": "python",
   "nbconvert_exporter": "python",
   "pygments_lexer": "ipython3",
   "version": "3.9.7"
  },
  "orig_nbformat": 4,
  "vscode": {
   "interpreter": {
    "hash": "b671c20432fcd147198c92e7f072af9e705f087eb990bee22b07f08caab9f630"
   }
  }
 },
 "nbformat": 4,
 "nbformat_minor": 2
}
