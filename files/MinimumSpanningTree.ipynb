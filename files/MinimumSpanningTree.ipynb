{
 "cells": [
  {
   "cell_type": "markdown",
   "metadata": {},
   "source": [
    "A minimum spanning tree (MST) is a subset of the edges of connected, weighted and undirected graph which:\n",
    "\n",
    "- Connects all vertices together\n",
    "- No cycle\n",
    "- Minimum total edge\n"
   ]
  },
  {
   "cell_type": "markdown",
   "metadata": {},
   "source": [
    "Disjoint set:\n",
    "Data structure that keeps track of elements which are partitioned into a number of disjoint and non-overlapping sets and each sets have representative which helps in identifying that sets\n",
    "\n",
    "Disjoing operation:\n",
    "\n",
    "- Make set\n",
    "- Union\n",
    "- Find set\n"
   ]
  },
  {
   "cell_type": "markdown",
   "metadata": {},
   "source": [
    "makeSet(N): used to create initial set\n",
    "\n",
    "union(x,y): marge two given sets\n",
    "\n",
    "findSet(x): return the set name in which this element is there\n"
   ]
  },
  {
   "cell_type": "code",
   "execution_count": 3,
   "metadata": {},
   "outputs": [],
   "source": [
    "class DisJointSet:\n",
    "    def __init__(self, vertices):\n",
    "        self.vertices = vertices\n",
    "        self.parent = {}\n",
    "        for i in self.vertices:\n",
    "            self.parent[i] = i\n",
    "        self.rank = dict.fromkeys(vertices, 0)\n",
    "\n",
    "    def find(self, item):\n",
    "        if self.parent[item] == item:\n",
    "            return item\n",
    "        else:\n",
    "            return self.find(self.parent[item])\n",
    "\n",
    "    def union(self, x, y):\n",
    "        xroot = self.find(x)\n",
    "        yroot = self.find(y)\n",
    "\n",
    "        if self.rank[xroot] > self.rank[yroot]:\n",
    "            self.rank[yroot] = xroot\n",
    "        elif self.rank[xroot] < self.rank[yroot]:\n",
    "            self.rank[xroot] = yroot\n",
    "        else:\n",
    "            self.parent[yroot] = xroot\n",
    "            self.rank[xroot] += 1\n"
   ]
  },
  {
   "cell_type": "code",
   "execution_count": 6,
   "metadata": {},
   "outputs": [
    {
     "name": "stdout",
     "output_type": "stream",
     "text": [
      "A\n",
      "A\n"
     ]
    }
   ],
   "source": [
    "vertices = [\"A\", \"B\", \"C\", \"D\", \"E\"]\n",
    "\n",
    "ds = DisJointSet(vertices)\n",
    "ds.union(\"A\", \"B\")\n",
    "ds.union(\"A\", \"C\")\n",
    "print(ds.find(\"A\"))\n",
    "print(ds.find(\"B\"))\n"
   ]
  },
  {
   "cell_type": "markdown",
   "metadata": {},
   "source": [
    "<h1>Kriskal Algorithm:</h1>\n",
    "\n",
    "<h5>psudo- code:</h5>\n",
    "\n",
    "```\n",
    "for each vertex:\n",
    "    makeset(v)\n",
    "\n",
    "sort each edge in non-decreasing order by weight\n",
    "\n",
    "for each edge (u,v):\n",
    "    if findset(u) != findset(v):\n",
    "        union(u,v)\n",
    "        cost = cost + edge(u,v)\n",
    "\n",
    "```\n"
   ]
  },
  {
   "cell_type": "code",
   "execution_count": 20,
   "metadata": {},
   "outputs": [],
   "source": [
    "class Kruskal:\n",
    "    def __init__(self, vertices):\n",
    "        self.vertices = vertices\n",
    "        self.graph = []\n",
    "        self.nodes = []\n",
    "        self.MST = []\n",
    "\n",
    "    def addEdge(self, s, d, w):\n",
    "        self.graph.append([s, d, w])\n",
    "\n",
    "    def addNode(self, value):\n",
    "        self.nodes.append(value)\n",
    "\n",
    "    def printSolution(self, s, d, w):\n",
    "        for s, d, w in self.MST:\n",
    "            print(\"%s - %s : %s\" % (s, d, w))\n",
    "\n",
    "    def kruskalMST(self):\n",
    "        i, e = 0, 0\n",
    "\n",
    "        dst = DisJointSet(self.nodes)\n",
    "        self.graph = sorted(self.graph, key=lambda item: item[2])\n",
    "        while e < self.vertices - 1:\n",
    "            s, d, w = self.graph[i]\n",
    "            i += 1\n",
    "            x = dst.find(s)\n",
    "            y = dst.find(d)\n",
    "            if x != y:\n",
    "                self.MST.append([s, d, w])\n",
    "                dst.union(x, y)\n",
    "                e += 1\n",
    "        self.printSolution(s, d, w)\n"
   ]
  },
  {
   "cell_type": "markdown",
   "metadata": {},
   "source": [
    "![MST](MST.png)\n"
   ]
  },
  {
   "cell_type": "code",
   "execution_count": 21,
   "metadata": {},
   "outputs": [],
   "source": [
    "kruskalGraph = Kruskal(5)\n"
   ]
  },
  {
   "cell_type": "code",
   "execution_count": 22,
   "metadata": {},
   "outputs": [],
   "source": [
    "kruskalGraph.addNode(\"A\")\n",
    "kruskalGraph.addNode(\"B\")\n",
    "kruskalGraph.addNode(\"C\")\n",
    "kruskalGraph.addNode(\"D\")\n",
    "kruskalGraph.addNode(\"E\")\n"
   ]
  },
  {
   "cell_type": "code",
   "execution_count": 23,
   "metadata": {},
   "outputs": [],
   "source": [
    "kruskalGraph.addEdge(\"A\", \"C\", 13)\n",
    "kruskalGraph.addEdge(\"A\", \"E\", 15)\n",
    "kruskalGraph.addEdge(\"A\", \"B\", 5)\n",
    "kruskalGraph.addEdge(\"E\", \"A\", 15)\n",
    "kruskalGraph.addEdge(\"E\", \"C\", 20)\n",
    "kruskalGraph.addEdge(\"B\", \"A\", 5)\n",
    "kruskalGraph.addEdge(\"B\", \"D\", 8)\n",
    "kruskalGraph.addEdge(\"B\", \"C\", 10)\n",
    "kruskalGraph.addEdge(\"D\", \"B\", 8)\n",
    "kruskalGraph.addEdge(\"D\", \"C\", 6)\n",
    "kruskalGraph.addEdge(\"C\", \"E\", 20)\n",
    "kruskalGraph.addEdge(\"C\", \"A\", 13)\n",
    "kruskalGraph.addEdge(\"C\", \"B\", 10)\n",
    "kruskalGraph.addEdge(\"C\", \"D\", 6)\n"
   ]
  },
  {
   "cell_type": "code",
   "execution_count": 24,
   "metadata": {},
   "outputs": [
    {
     "name": "stdout",
     "output_type": "stream",
     "text": [
      "A - B : 5\n",
      "D - C : 6\n",
      "B - D : 8\n",
      "A - E : 15\n"
     ]
    }
   ],
   "source": [
    "kruskalGraph.kruskalMST()\n"
   ]
  },
  {
   "cell_type": "code",
   "execution_count": 48,
   "metadata": {},
   "outputs": [],
   "source": [
    "import sys\n",
    "\n",
    "\n",
    "class PrimsMST:\n",
    "    def __init__(self, vertNum, edges, nodes):\n",
    "        self.vertNum = vertNum\n",
    "        self.edges = edges\n",
    "        self.nodes = nodes\n",
    "        self.MST = []\n",
    "\n",
    "    def printSolution(self):\n",
    "        print(\"Edge : Weight\")\n",
    "        for s, d, w in self.MST:\n",
    "            print(\"%s -> %s : %s\" % (s, d, w))\n",
    "\n",
    "    def primsAlgo(self):\n",
    "        visited = [0] * self.vertNum\n",
    "        edgeNum = 0\n",
    "        visited[0] = True\n",
    "\n",
    "        while edgeNum < self.vertNum - 1:\n",
    "            min = sys.maxsize\n",
    "\n",
    "            for i in range(self.vertNum):\n",
    "                if visited[i]:\n",
    "                    for j in range(self.vertNum):\n",
    "                        if ((not visited[j]) and self.edges[i][j]):\n",
    "                            if min > self.edges[i][j]:\n",
    "                                min = self.edges[i][j]\n",
    "                                s = i\n",
    "                                d = j\n",
    "            self.MST.append([self.nodes[s], self.nodes[d], self.edges[s][d]])\n",
    "            visited[d] = True\n",
    "            edgeNum += 1\n",
    "        self.printSolution()\n"
   ]
  },
  {
   "cell_type": "code",
   "execution_count": 49,
   "metadata": {},
   "outputs": [],
   "source": [
    "edges = [[0, 10, 20, 0, 0],\n",
    "         [10, 0, 30, 5, 0],\n",
    "         [20, 30, 0, 15, 6],\n",
    "         [0, 5, 15, 0, 8],\n",
    "         [0, 0, 6, 8, 0]]\n"
   ]
  },
  {
   "cell_type": "code",
   "execution_count": 50,
   "metadata": {},
   "outputs": [],
   "source": [
    "nodes = [\"A\", \"B\", \"C\", \"D\", \"E\"]\n"
   ]
  },
  {
   "cell_type": "code",
   "execution_count": 51,
   "metadata": {},
   "outputs": [],
   "source": [
    "g = PrimsMST(5, edges, nodes)\n"
   ]
  },
  {
   "cell_type": "code",
   "execution_count": 52,
   "metadata": {},
   "outputs": [
    {
     "name": "stdout",
     "output_type": "stream",
     "text": [
      "Edge : Weight\n",
      "A -> B : 10\n",
      "B -> D : 5\n",
      "D -> E : 8\n",
      "E -> C : 6\n"
     ]
    }
   ],
   "source": [
    "g.primsAlgo()\n"
   ]
  },
  {
   "cell_type": "code",
   "execution_count": null,
   "metadata": {},
   "outputs": [],
   "source": []
  }
 ],
 "metadata": {
  "kernelspec": {
   "display_name": "Python 3.9.7 64-bit",
   "language": "python",
   "name": "python3"
  },
  "language_info": {
   "codemirror_mode": {
    "name": "ipython",
    "version": 3
   },
   "file_extension": ".py",
   "mimetype": "text/x-python",
   "name": "python",
   "nbconvert_exporter": "python",
   "pygments_lexer": "ipython3",
   "version": "3.9.7"
  },
  "orig_nbformat": 4,
  "vscode": {
   "interpreter": {
    "hash": "b671c20432fcd147198c92e7f072af9e705f087eb990bee22b07f08caab9f630"
   }
  }
 },
 "nbformat": 4,
 "nbformat_minor": 2
}
