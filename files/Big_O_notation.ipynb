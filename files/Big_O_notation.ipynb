{
 "cells": [
  {
   "cell_type": "markdown",
   "metadata": {},
   "source": [
    "## Big O Notation"
   ]
  },
  {
   "cell_type": "markdown",
   "metadata": {},
   "source": [
    "Big O Notation is the measure of efficiency of the Algorithm\n",
    "\n",
    "Different types of run time scenarios:\n",
    "- Worst Case\n",
    "- Average Case\n",
    "- Best Case\n",
    "\n",
    "![Types of time scenarios](TimeScenarios.png)\n"
   ]
  },
  {
   "cell_type": "markdown",
   "metadata": {},
   "source": [
    "`Big O`: It is the complexity that is less than or equal to worst case\n",
    "\n",
    "`Big-omega`: It is the complexity atleast more than the best case\n",
    "\n",
    "`Big-theta` : It is the complexity that is within bounds of worst and best cases  "
   ]
  },
  {
   "cell_type": "markdown",
   "metadata": {},
   "source": [
    "| Time Complexity | Name      | Example|\n",
    "|-----------------|-------    |---------|\n",
    "| O(1)          |Constant   | Accessing specific element in an array|\n",
    "| O(N)          | Linear    | Iterating through an array |\n",
    "| O(LogN)       |Logarithmic| Find an element in an sorted array |\n",
    "| O($N^2$)      |Quadratic  | Looking at every index in array twice|\n",
    "| O($2^N$)      |Exponential| Double recusrion in Fibonacci |\n",
    "\n",
    "![BigO](BigO.png)\n"
   ]
  },
  {
   "cell_type": "markdown",
   "metadata": {},
   "source": [
    "How to measure Big O in code?\n",
    "![Big O Measure](measurebigo.png)"
   ]
  },
  {
   "cell_type": "markdown",
   "metadata": {},
   "source": []
  }
 ],
 "metadata": {
  "kernelspec": {
   "display_name": "Python 3.9.7 64-bit",
   "language": "python",
   "name": "python3"
  },
  "language_info": {
   "name": "python",
   "version": "3.9.7"
  },
  "orig_nbformat": 4,
  "vscode": {
   "interpreter": {
    "hash": "b671c20432fcd147198c92e7f072af9e705f087eb990bee22b07f08caab9f630"
   }
  }
 },
 "nbformat": 4,
 "nbformat_minor": 2
}
