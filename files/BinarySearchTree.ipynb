{
 "cells": [
  {
   "cell_type": "code",
   "execution_count": 1,
   "metadata": {},
   "outputs": [],
   "source": [
    "class BSTNode:\n",
    "    def __init__(self,value):\n",
    "        self.value = value\n",
    "        self.leftChild = None\n",
    "        self.rightChild = None\n",
    "    \n",
    "\n"
   ]
  },
  {
   "cell_type": "code",
   "execution_count": 7,
   "metadata": {},
   "outputs": [],
   "source": [
    "newBST = BSTNode(None)"
   ]
  },
  {
   "cell_type": "code",
   "execution_count": 10,
   "metadata": {},
   "outputs": [],
   "source": [
    "def insertNode(rootNode,nodeValue):\n",
    "    if rootNode.value is None:\n",
    "        rootNode.value = nodeValue\n",
    "    \n",
    "    elif nodeValue <= rootNode.value:\n",
    "        if rootNode.leftChild is None:\n",
    "            rootNode.leftChild = BSTNode(nodeValue)\n",
    "        else:\n",
    "            insertNode(rootNode.leftChild,nodeValue)\n",
    "    else:\n",
    "        if rootNode.rightChild is None:\n",
    "            rootNode.rightChild = BSTNode(nodeValue)\n",
    "        else:\n",
    "            insertNode(rootNode.rightChild,nodeValue)\n",
    "            \n",
    "    return \"The value has been inserted successfully\"\n",
    "        \n",
    "                   \n",
    "        "
   ]
  },
  {
   "cell_type": "code",
   "execution_count": 11,
   "metadata": {},
   "outputs": [
    {
     "data": {
      "text/plain": [
       "'The value has been inserted successfully'"
      ]
     },
     "execution_count": 11,
     "metadata": {},
     "output_type": "execute_result"
    }
   ],
   "source": [
    "insertNode(newBST,70)"
   ]
  },
  {
   "cell_type": "code",
   "execution_count": 12,
   "metadata": {},
   "outputs": [
    {
     "data": {
      "text/plain": [
       "'The value has been inserted successfully'"
      ]
     },
     "execution_count": 12,
     "metadata": {},
     "output_type": "execute_result"
    }
   ],
   "source": [
    "insertNode(newBST,60)"
   ]
  },
  {
   "cell_type": "code",
   "execution_count": 13,
   "metadata": {},
   "outputs": [
    {
     "data": {
      "text/plain": [
       "'The value has been inserted successfully'"
      ]
     },
     "execution_count": 13,
     "metadata": {},
     "output_type": "execute_result"
    }
   ],
   "source": [
    "insertNode(newBST,80)"
   ]
  },
  {
   "cell_type": "code",
   "execution_count": 14,
   "metadata": {},
   "outputs": [],
   "source": [
    "def preOrderTrversal(rootNode):\n",
    "    if not rootNode:\n",
    "        return \n",
    "    print(rootNode.value)\n",
    "    preOrderTrversal(rootNode.leftChild)\n",
    "    preOrderTrversal(rootNode.rightChild)\n",
    "    "
   ]
  },
  {
   "cell_type": "code",
   "execution_count": 15,
   "metadata": {},
   "outputs": [
    {
     "name": "stdout",
     "output_type": "stream",
     "text": [
      "70\n",
      "60\n",
      "80\n"
     ]
    }
   ],
   "source": [
    "preOrderTrversal(newBST)"
   ]
  },
  {
   "cell_type": "code",
   "execution_count": 16,
   "metadata": {},
   "outputs": [],
   "source": [
    "def inOrderTraversal(rootNode):\n",
    "    if not rootNode:\n",
    "        return\n",
    "    preOrderTrversal(rootNode.leftChild) \n",
    "    print(rootNode.value)\n",
    "    preOrderTrversal(rootNode.rightChild)\n",
    "    "
   ]
  },
  {
   "cell_type": "code",
   "execution_count": 19,
   "metadata": {},
   "outputs": [],
   "source": [
    "def searchNode(rootNode,nodeValue):\n",
    "    if rootNode.value == nodeValue:\n",
    "        return \"Value Found\"\n",
    "    elif nodeValue <= rootNode.value:\n",
    "        if rootNode.leftChild.value == nodeValue:\n",
    "            return \"Value Found\"\n",
    "        else:\n",
    "            searchNode(rootNode.leftChild,nodeValue)  \n",
    "    else:\n",
    "        if rootNode.rightChild == nodeValue:\n",
    "            return \"Value Found\"\n",
    "        else:\n",
    "            searchNode(rootNode.rightChild,nodeValue)  \n",
    "        \n",
    "    "
   ]
  },
  {
   "cell_type": "code",
   "execution_count": 20,
   "metadata": {},
   "outputs": [
    {
     "data": {
      "text/plain": [
       "'Value Found'"
      ]
     },
     "execution_count": 20,
     "metadata": {},
     "output_type": "execute_result"
    }
   ],
   "source": [
    "searchNode(newBST,60)"
   ]
  },
  {
   "cell_type": "code",
   "execution_count": 27,
   "metadata": {},
   "outputs": [],
   "source": [
    "def minValueNode(rootNode):\n",
    "    currentNode = rootNode\n",
    "    while (currentNode.leftChild is not None):\n",
    "        currentNode = currentNode.leftChild\n",
    "    return currentNode.value"
   ]
  },
  {
   "cell_type": "code",
   "execution_count": 28,
   "metadata": {},
   "outputs": [
    {
     "data": {
      "text/plain": [
       "60"
      ]
     },
     "execution_count": 28,
     "metadata": {},
     "output_type": "execute_result"
    }
   ],
   "source": [
    "minValueNode(newBST)"
   ]
  },
  {
   "cell_type": "code",
   "execution_count": 29,
   "metadata": {},
   "outputs": [],
   "source": [
    "def deleteNode(rootNode,nodeValue):\n",
    "    if rootNode is None:\n",
    "        return rootNode\n",
    "    if nodeValue < rootNode.value:\n",
    "        rootNode.leftChild = deleteNode(rootNode.leftChild,nodeValue)\n",
    "    elif nodeValue > rootNode.value:\n",
    "        rootNode.rightChild = deleteNode(rootNode.rightChild.nodeValue)\n",
    "    else:\n",
    "        if rootNode.leftChild is None:\n",
    "            temp = rootNode.rightChild\n",
    "            rootNode = None\n",
    "            return temp\n",
    "        \n",
    "        if rootNode.rightChild is None:\n",
    "            temp = rootNode.rightChild\n",
    "            rootNode = None\n",
    "            return temp\n",
    "        temp = minValueNode(rootNode.rightChild)\n",
    "        rootNode.value = temp.value\n",
    "        rootNode.rightChild = deleteNode(rootNode.rightChild,temp.data)\n",
    "    return  rootNode\n",
    "\n",
    "        \n",
    "        "
   ]
  },
  {
   "cell_type": "code",
   "execution_count": 30,
   "metadata": {},
   "outputs": [
    {
     "data": {
      "text/plain": [
       "<__main__.BSTNode at 0x1e9ec315070>"
      ]
     },
     "execution_count": 30,
     "metadata": {},
     "output_type": "execute_result"
    }
   ],
   "source": [
    "deleteNode(newBST,60)"
   ]
  },
  {
   "cell_type": "code",
   "execution_count": 31,
   "metadata": {},
   "outputs": [
    {
     "name": "stdout",
     "output_type": "stream",
     "text": [
      "70\n",
      "80\n"
     ]
    }
   ],
   "source": [
    "preOrderTrversal(newBST)"
   ]
  },
  {
   "cell_type": "code",
   "execution_count": null,
   "metadata": {},
   "outputs": [],
   "source": []
  }
 ],
 "metadata": {
  "kernelspec": {
   "display_name": "Python 3.9.7 64-bit",
   "language": "python",
   "name": "python3"
  },
  "language_info": {
   "codemirror_mode": {
    "name": "ipython",
    "version": 3
   },
   "file_extension": ".py",
   "mimetype": "text/x-python",
   "name": "python",
   "nbconvert_exporter": "python",
   "pygments_lexer": "ipython3",
   "version": "3.9.7"
  },
  "orig_nbformat": 4,
  "vscode": {
   "interpreter": {
    "hash": "b671c20432fcd147198c92e7f072af9e705f087eb990bee22b07f08caab9f630"
   }
  }
 },
 "nbformat": 4,
 "nbformat_minor": 2
}
