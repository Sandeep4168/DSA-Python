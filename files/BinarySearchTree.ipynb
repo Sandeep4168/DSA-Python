{
 "cells": [
  {
   "cell_type": "code",
   "execution_count": 2,
   "metadata": {},
   "outputs": [],
   "source": [
    "class BSTNode:\n",
    "    def __init__(self,value):\n",
    "        self.value = value\n",
    "        self.leftChild = None\n",
    "        self.rightChild = None\n",
    "    \n",
    "\n"
   ]
  },
  {
   "cell_type": "code",
   "execution_count": 3,
   "metadata": {},
   "outputs": [],
   "source": [
    "newBST = BSTNode(None)"
   ]
  },
  {
   "cell_type": "code",
   "execution_count": 4,
   "metadata": {},
   "outputs": [],
   "source": [
    "def insertNode(rootNode,nodeValue):\n",
    "    if rootNode.value is None:\n",
    "        rootNode.value = nodeValue\n",
    "    \n",
    "    elif nodeValue <= rootNode.value:\n",
    "        if rootNode.leftChild is None:\n",
    "            rootNode.leftChild = BSTNode(nodeValue)\n",
    "        else:\n",
    "            insertNode(rootNode.leftChild,nodeValue)\n",
    "    else:\n",
    "        if rootNode.rightChild is None:\n",
    "            rootNode.rightChild = BSTNode(nodeValue)\n",
    "        else:\n",
    "            insertNode(rootNode.rightChild,nodeValue)\n",
    "            \n",
    "    return \"The value has been inserted successfully\"\n",
    "        \n",
    "                   \n",
    "        "
   ]
  },
  {
   "cell_type": "code",
   "execution_count": 5,
   "metadata": {},
   "outputs": [
    {
     "data": {
      "text/plain": [
       "'The value has been inserted successfully'"
      ]
     },
     "execution_count": 5,
     "metadata": {},
     "output_type": "execute_result"
    }
   ],
   "source": [
    "insertNode(newBST,70)"
   ]
  },
  {
   "cell_type": "code",
   "execution_count": 6,
   "metadata": {},
   "outputs": [
    {
     "data": {
      "text/plain": [
       "'The value has been inserted successfully'"
      ]
     },
     "execution_count": 6,
     "metadata": {},
     "output_type": "execute_result"
    }
   ],
   "source": [
    "insertNode(newBST,60)"
   ]
  },
  {
   "cell_type": "code",
   "execution_count": 7,
   "metadata": {},
   "outputs": [
    {
     "data": {
      "text/plain": [
       "'The value has been inserted successfully'"
      ]
     },
     "execution_count": 7,
     "metadata": {},
     "output_type": "execute_result"
    }
   ],
   "source": [
    "insertNode(newBST,80)"
   ]
  },
  {
   "cell_type": "code",
   "execution_count": 8,
   "metadata": {},
   "outputs": [],
   "source": [
    "def preOrderTrversal(rootNode):\n",
    "    if not rootNode:\n",
    "        return \n",
    "    print(rootNode.value)\n",
    "    preOrderTrversal(rootNode.leftChild)\n",
    "    preOrderTrversal(rootNode.rightChild)\n",
    "    "
   ]
  },
  {
   "cell_type": "code",
   "execution_count": 9,
   "metadata": {},
   "outputs": [
    {
     "name": "stdout",
     "output_type": "stream",
     "text": [
      "70\n",
      "60\n",
      "80\n"
     ]
    }
   ],
   "source": [
    "preOrderTrversal(newBST)"
   ]
  },
  {
   "cell_type": "code",
   "execution_count": 10,
   "metadata": {},
   "outputs": [],
   "source": [
    "def inOrderTraversal(rootNode):\n",
    "    if not rootNode:\n",
    "        return\n",
    "    preOrderTrversal(rootNode.leftChild) \n",
    "    print(rootNode.value)\n",
    "    preOrderTrversal(rootNode.rightChild)\n",
    "    "
   ]
  },
  {
   "cell_type": "code",
   "execution_count": 11,
   "metadata": {},
   "outputs": [],
   "source": [
    "def searchNode(rootNode,nodeValue):\n",
    "    if rootNode.value == nodeValue:\n",
    "        return \"Value Found\"\n",
    "    elif nodeValue <= rootNode.value:\n",
    "        if rootNode.leftChild.value == nodeValue:\n",
    "            return \"Value Found\"\n",
    "        else:\n",
    "            searchNode(rootNode.leftChild,nodeValue)  \n",
    "    else:\n",
    "        if rootNode.rightChild == nodeValue:\n",
    "            return \"Value Found\"\n",
    "        else:\n",
    "            searchNode(rootNode.rightChild,nodeValue)  \n",
    "        \n",
    "    "
   ]
  },
  {
   "cell_type": "code",
   "execution_count": 12,
   "metadata": {},
   "outputs": [
    {
     "data": {
      "text/plain": [
       "'Value Found'"
      ]
     },
     "execution_count": 12,
     "metadata": {},
     "output_type": "execute_result"
    }
   ],
   "source": [
    "searchNode(newBST,60)"
   ]
  },
  {
   "cell_type": "code",
   "execution_count": 13,
   "metadata": {},
   "outputs": [],
   "source": [
    "def minValueNode(rootNode):\n",
    "    currentNode = rootNode\n",
    "    while (currentNode.leftChild is not None):\n",
    "        currentNode = currentNode.leftChild\n",
    "    return currentNode.value"
   ]
  },
  {
   "cell_type": "code",
   "execution_count": 14,
   "metadata": {},
   "outputs": [
    {
     "data": {
      "text/plain": [
       "60"
      ]
     },
     "execution_count": 14,
     "metadata": {},
     "output_type": "execute_result"
    }
   ],
   "source": [
    "minValueNode(newBST)"
   ]
  },
  {
   "cell_type": "code",
   "execution_count": 15,
   "metadata": {},
   "outputs": [],
   "source": [
    "def deleteNode(rootNode,nodeValue):\n",
    "    if rootNode is None:\n",
    "        return rootNode\n",
    "    if nodeValue < rootNode.value:\n",
    "        rootNode.leftChild = deleteNode(rootNode.leftChild,nodeValue)\n",
    "    elif nodeValue > rootNode.value:\n",
    "        rootNode.rightChild = deleteNode(rootNode.rightChild.nodeValue)\n",
    "    else:\n",
    "        if rootNode.leftChild is None:\n",
    "            temp = rootNode.rightChild\n",
    "            rootNode = None\n",
    "            return temp\n",
    "        \n",
    "        if rootNode.rightChild is None:\n",
    "            temp = rootNode.rightChild\n",
    "            rootNode = None\n",
    "            return temp\n",
    "        temp = minValueNode(rootNode.rightChild)\n",
    "        rootNode.value = temp.value\n",
    "        rootNode.rightChild = deleteNode(rootNode.rightChild,temp.data)\n",
    "    return  rootNode\n",
    "\n",
    "        \n",
    "        "
   ]
  },
  {
   "cell_type": "code",
   "execution_count": 16,
   "metadata": {},
   "outputs": [
    {
     "data": {
      "text/plain": [
       "<__main__.BSTNode at 0x16fce137250>"
      ]
     },
     "execution_count": 16,
     "metadata": {},
     "output_type": "execute_result"
    }
   ],
   "source": [
    "deleteNode(newBST,60)"
   ]
  },
  {
   "cell_type": "code",
   "execution_count": 17,
   "metadata": {},
   "outputs": [
    {
     "name": "stdout",
     "output_type": "stream",
     "text": [
      "70\n",
      "80\n"
     ]
    }
   ],
   "source": [
    "preOrderTrversal(newBST)"
   ]
  },
  {
   "cell_type": "code",
   "execution_count": 20,
   "metadata": {},
   "outputs": [],
   "source": [
    "class Node:\n",
    "    def __init__(self,value=None):\n",
    "        self.value = value\n",
    "        self.next = None\n",
    "        \n",
    "    def __str__(self):\n",
    "        return str(self.value)\n",
    "        \n",
    "class LinkedList:\n",
    "    def __init__(self):\n",
    "        self.head = None\n",
    "        self.tail = None\n",
    "        \n",
    "    def __iter__(self):\n",
    "        curNode = self.head\n",
    "        while curNode :\n",
    "            yield curNode\n",
    "            curNode = curNode.next\n",
    "\n",
    "class QueueByLinkedList:\n",
    "    def __init__(self):\n",
    "        self.LinkedList = LinkedList()\n",
    "    \n",
    "    def __str__(self):\n",
    "        values = [str(x) for x in self.LinkedList]\n",
    "        return \" \".join(values)\n",
    "    \n",
    "    def isEmpty(self):\n",
    "        return True if self.LinkedList.head == None else False\n",
    "    \n",
    "    def enqueue(self,value):\n",
    "        node = Node(value)\n",
    "        if self.LinkedList.head == None:\n",
    "            self.LinkedList.head = node\n",
    "            self.LinkedList.tail = node\n",
    "            \n",
    "        else:\n",
    "            self.LinkedList.tail.next = node\n",
    "            self.LinkedList.tail = node\n",
    "    def dequeue(self):\n",
    "        if self.LinkedList.head == None:\n",
    "            return \"The queue is empty\"\n",
    "        elif self.LinkedList.head == self.LinkedList.tail:\n",
    "            tempNode = self.LinkedList.head\n",
    "            self.LinkedList.head = None\n",
    "            self.LinkedList.tail = None\n",
    "            return tempNode.value\n",
    "        else:\n",
    "            tempNode = self.LinkedList.head\n",
    "            self.LinkedList.head = self.LinkedList.head.next\n",
    "            return tempNode.value\n",
    "        \n",
    "    def peek(self):\n",
    "        if self.LinkedList.head == None:\n",
    "            return \"The queue is empty\"\n",
    "        else:\n",
    "            return self.LinkedList.head.value\n",
    "        \n",
    "\n",
    "            "
   ]
  },
  {
   "cell_type": "code",
   "execution_count": 23,
   "metadata": {},
   "outputs": [],
   "source": [
    "def levelOrderTraversal(rootnode):\n",
    "    if not rootnode:\n",
    "        return \n",
    "    else:\n",
    "        queue = QueueByLinkedList()\n",
    "        queue.enqueue(rootnode)\n",
    "        while not (queue.isEmpty()):\n",
    "            root = queue.dequeue()\n",
    "            print(root.value)\n",
    "            if (root.leftChild) is not None:\n",
    "                queue.enqueue(root.leftChild)\n",
    "            if (root.rightChild) is not None:\n",
    "                queue.enqueue(root.rightChild)\n",
    "        \n",
    "        \n",
    "    "
   ]
  },
  {
   "cell_type": "code",
   "execution_count": 24,
   "metadata": {},
   "outputs": [
    {
     "name": "stdout",
     "output_type": "stream",
     "text": [
      "70\n",
      "80\n"
     ]
    }
   ],
   "source": [
    "levelOrderTraversal(newBST)"
   ]
  },
  {
   "cell_type": "code",
   "execution_count": null,
   "metadata": {},
   "outputs": [],
   "source": []
  }
 ],
 "metadata": {
  "kernelspec": {
   "display_name": "Python 3.9.7 64-bit",
   "language": "python",
   "name": "python3"
  },
  "language_info": {
   "codemirror_mode": {
    "name": "ipython",
    "version": 3
   },
   "file_extension": ".py",
   "mimetype": "text/x-python",
   "name": "python",
   "nbconvert_exporter": "python",
   "pygments_lexer": "ipython3",
   "version": "3.9.7"
  },
  "orig_nbformat": 4,
  "vscode": {
   "interpreter": {
    "hash": "b671c20432fcd147198c92e7f072af9e705f087eb990bee22b07f08caab9f630"
   }
  }
 },
 "nbformat": 4,
 "nbformat_minor": 2
}
