{
 "cells": [
  {
   "cell_type": "markdown",
   "metadata": {},
   "source": [
    "## Linked Lists\n",
    "Linked Lists are the sequential collection , that need not to be in order. a Linked List is made up of independent lists that may contain any type of data and each node has a reference to the next node."
   ]
  },
  {
   "cell_type": "markdown",
   "metadata": {},
   "source": [
    "Difference between Lists and Linked Lists\n",
    "- In Lists the elements are not independent of each other, if they are deleted the next element takes place in the deleted element\n",
    "- In the Linked Lists the elements are independent and if they are deleted the whole cell will get deleted"
   ]
  },
  {
   "cell_type": "markdown",
   "metadata": {},
   "source": []
  },
  {
   "cell_type": "markdown",
   "metadata": {},
   "source": [
    "Types of Linked Lists:\n",
    "- Single Linked Lists\n",
    "- Circular singly linked lists\n",
    "- Double linked lists\n",
    "- Circular double linked lists"
   ]
  },
  {
   "cell_type": "markdown",
   "metadata": {},
   "source": [
    "![singlelinkedlist](singlelinkedlist.png)"
   ]
  },
  {
   "cell_type": "markdown",
   "metadata": {},
   "source": [
    "![circular single Linked List](circularsinglelinkedlist.png)"
   ]
  },
  {
   "cell_type": "markdown",
   "metadata": {},
   "source": [
    "![double linked list](doublylinkedlist.png)"
   ]
  },
  {
   "cell_type": "markdown",
   "metadata": {},
   "source": [
    "![circular doubly linked list](circulardoublylinkedlist.png)"
   ]
  },
  {
   "cell_type": "markdown",
   "metadata": {},
   "source": [
    "The location of memory for linked list is random unlike contigous in array"
   ]
  },
  {
   "cell_type": "code",
   "execution_count": 4,
   "metadata": {},
   "outputs": [],
   "source": [
    "# Creation of Singly linked list\n",
    "\n",
    "class Node:\n",
    "    def __init__(self,value=None):\n",
    "        self.value = value\n",
    "        self.next = None\n",
    "\n"
   ]
  },
  {
   "cell_type": "code",
   "execution_count": 5,
   "metadata": {},
   "outputs": [],
   "source": [
    "\n",
    "    \n",
    "class SingleLinkedList:\n",
    "    def __init__(self):\n",
    "        self.head = None\n",
    "        self.tail = None\n",
    "\n",
    "    def __iter__(self):\n",
    "        node = self.head\n",
    "        while node:\n",
    "            yield node\n",
    "            node = node.next\n",
    "\n",
    "    def print(self):\n",
    "        if self.head is None:\n",
    "            print(\"Linked list is empty\")\n",
    "            return\n",
    "        itr = self.head\n",
    "        llstr = ''\n",
    "        while itr:\n",
    "            llstr += str(itr.value)+' --> ' if itr.next else str(itr.value)\n",
    "            itr = itr.next # Traversal of Linked List\n",
    "        print(llstr)\n",
    "\n",
    "    def insert(self,value,loc):\n",
    "        newNode = Node(value)\n",
    "        if self.head is None:\n",
    "            self.head = newNode\n",
    "            self.tail = newNode\n",
    "            \n",
    "        else:\n",
    "            if loc == 0:\n",
    "                newNode.next = self.head\n",
    "                self.head = newNode\n",
    "            elif loc == 1:\n",
    "                newNode.next = None\n",
    "                self.tail.next = newNode\n",
    "                self.tail = newNode\n",
    "            else:\n",
    "                tempNode = self.head\n",
    "                index = 0\n",
    "                while index < loc - 1:\n",
    "                    tempNode = tempNode.next\n",
    "                    index += 1\n",
    "                nextNode = tempNode.next\n",
    "                tempNode.next = newNode\n",
    "                newNode.next = nextNode\n",
    "\n",
    "    def find(self,value):\n",
    "        if self.head is None:\n",
    "            return \"The Linked list doesn't exist\"\n",
    "        else:\n",
    "            node = self.head\n",
    "            while node:\n",
    "                if node.value == value:\n",
    "                    return node.value\n",
    "                node = node.next\n",
    "            return \"The node value doesn't exist\"\n",
    "    \n",
    "    def insertValues(self,values):\n",
    "        for i in values:\n",
    "            self.insert(i,1)\n",
    "    \n",
    "    def remove(self,loc):\n",
    "        if self.head is None:\n",
    "            return \"The linked list doesn't exist\"\n",
    "        else:\n",
    "            if loc == 0:\n",
    "                if self.head == self.tail:\n",
    "                    self.head = None\n",
    "                    self.tail = None\n",
    "                else:\n",
    "                    self.head = self.head.next\n",
    "            elif loc == 1:\n",
    "                if self.head == self.tail:\n",
    "                    self.head = None\n",
    "                    self.tail = None\n",
    "                else:\n",
    "                    node = self.head \n",
    "                    while node is not None:\n",
    "                        if node.next == self.tail:\n",
    "                            break\n",
    "                        node = node.next\n",
    "                    node.next = None\n",
    "                    self.tail = node\n",
    "            else:\n",
    "                tempNode = self.head\n",
    "                index = 0\n",
    "                while index < loc - 1:\n",
    "                    tempNode = tempNode.next \n",
    "                    index += 1\n",
    "                nextNode = tempNode.next\n",
    "                tempNode.next = nextNode.next\n",
    "    def removeAll(self):\n",
    "        if self.head is None:\n",
    "            return \"The Linked List doesn't exist\"\n",
    "        else:\n",
    "            self.head = None\n",
    "            self.tail = None\n",
    "        \n",
    "\n",
    "\n",
    "            \n",
    "\n",
    "\n",
    "\n",
    "\n",
    "\n",
    "        \n"
   ]
  },
  {
   "cell_type": "code",
   "execution_count": 6,
   "metadata": {},
   "outputs": [],
   "source": [
    "singleLinkedList = SingleLinkedList();\n",
    "singleLinkedList.insertValues([\"Cat\",\"Dog\",\"Tiger\"])"
   ]
  },
  {
   "cell_type": "code",
   "execution_count": 7,
   "metadata": {},
   "outputs": [
    {
     "name": "stdout",
     "output_type": "stream",
     "text": [
      "Cat --> Dog --> Tiger\n"
     ]
    }
   ],
   "source": [
    "singleLinkedList.print()"
   ]
  },
  {
   "cell_type": "code",
   "execution_count": 8,
   "metadata": {},
   "outputs": [
    {
     "data": {
      "text/plain": [
       "'Cat'"
      ]
     },
     "execution_count": 8,
     "metadata": {},
     "output_type": "execute_result"
    }
   ],
   "source": [
    "singleLinkedList.find(\"Cat\")"
   ]
  },
  {
   "cell_type": "code",
   "execution_count": 9,
   "metadata": {},
   "outputs": [
    {
     "data": {
      "text/plain": [
       "\"The node value doesn't exist\""
      ]
     },
     "execution_count": 9,
     "metadata": {},
     "output_type": "execute_result"
    }
   ],
   "source": [
    "singleLinkedList.find(\"Lion\")"
   ]
  },
  {
   "cell_type": "code",
   "execution_count": 10,
   "metadata": {},
   "outputs": [],
   "source": [
    "singleLinkedList.remove(0)"
   ]
  },
  {
   "cell_type": "code",
   "execution_count": 11,
   "metadata": {},
   "outputs": [
    {
     "name": "stdout",
     "output_type": "stream",
     "text": [
      "Dog --> Tiger\n"
     ]
    }
   ],
   "source": [
    "singleLinkedList.print()"
   ]
  },
  {
   "cell_type": "code",
   "execution_count": 12,
   "metadata": {},
   "outputs": [],
   "source": [
    "singleLinkedList.removeAll()"
   ]
  },
  {
   "cell_type": "code",
   "execution_count": 13,
   "metadata": {},
   "outputs": [
    {
     "name": "stdout",
     "output_type": "stream",
     "text": [
      "Linked list is empty\n"
     ]
    }
   ],
   "source": [
    "singleLinkedList.print()"
   ]
  },
  {
   "cell_type": "code",
   "execution_count": 14,
   "metadata": {},
   "outputs": [],
   "source": [
    "class CircularSingleLinkedList:\n",
    "    def __init__(self):\n",
    "        self.head = None\n",
    "        self.tail = None\n",
    "\n",
    "    def __iter__(self):\n",
    "        node = self.head\n",
    "        while node:\n",
    "            yield node\n",
    "            node = node.next\n",
    "\n",
    "    def print(self):\n",
    "        if self.head is None :\n",
    "            return \"The circular singly linked list doesn't exist\"\n",
    "        else:\n",
    "            tempNode = self.head\n",
    "            while tempNode:\n",
    "                print(tempNode.value)\n",
    "                tempNode = tempNode.next\n",
    "                if tempNode == self.tail.next:\n",
    "                    break\n",
    "                 \n",
    "    \n",
    "    def create(self,value):\n",
    "\n",
    "        node = Node(value)\n",
    "        node.next = node\n",
    "        self.head = node\n",
    "        self.tail = node\n",
    "        return \"The circular singly list created successfully\"\n",
    "    \n",
    "\n",
    "    def insert(self,value,loc):\n",
    "        newNode = Node(value)\n",
    "        if self.head == None and self.tail == none:\n",
    "            self.create(value)\n",
    "        else:\n",
    "\n",
    "            if loc == 0:\n",
    "                newNode.next = self.head\n",
    "                self.head = newNode\n",
    "                self.tail.next = newNode\n",
    "            elif loc == 1:\n",
    "                newNode.next = self.tail.next\n",
    "                self.tail.next = newNode\n",
    "                self.tail = newNode\n",
    "            else:\n",
    "                tempNode = self.head\n",
    "                index = 0\n",
    "                while index < loc - 1 :\n",
    "                    tempNode = tempNode.next\n",
    "                    index += 1\n",
    "                nextNode = tempNode.next\n",
    "                tempNode.next = newNode\n",
    "                newNode.next = nextNode\n",
    "            return \" The node has been inserted successfully\"\n",
    "    \n",
    "    def size(self):\n",
    "        if self.head is None:\n",
    "            return \"The circular singly list doesn't exist\"\n",
    "        else:\n",
    "            tempNode = self.head\n",
    "            index = 0\n",
    "            while tempNode:\n",
    "                index += 1\n",
    "                tempNode = tempNode.next\n",
    "                if tempNode == self.head:\n",
    "                    break\n",
    "        return index \n",
    "\n",
    "\n",
    "\n",
    "    \n",
    "    def find(self,nodeValue):\n",
    "        if self.head is None:\n",
    "            return \"The circular singly list doesn't exist\"\n",
    "        else:\n",
    "            tempNode = self.head\n",
    "            while tempNode:\n",
    "                if tempNode.value == nodeValue:\n",
    "                    return tempNode.value\n",
    "                tempNode = tempNode.next\n",
    "                if tempNode == self.head:\n",
    "                    return \"The node value doesn't exist\"\n",
    "    \n",
    "    def remove(self,loc):\n",
    "        if self.head is None:\n",
    "            return \"The circular singly list doesn't exist\"\n",
    "        else:\n",
    "            if loc == 0:\n",
    "                if self.head == self.tail:\n",
    "                    self.head.next = None\n",
    "                    self.head = None\n",
    "                    self.tail = None\n",
    "                else:\n",
    "                    self.head = self.head.next\n",
    "                    self.tail.next = self.head\n",
    "            \n",
    "            elif loc == 1:\n",
    "                if self.head == self.tail:\n",
    "                    self.head.next = None\n",
    "                    self.head = None\n",
    "                    self.tail = None\n",
    "                else:\n",
    "                    tempNode = self.head\n",
    "                    while tempNode is not None:\n",
    "                        if tempNode.next == self.tail:\n",
    "                            break\n",
    "                        tempNode = tempNode.next\n",
    "                    tempNode.next = self.head\n",
    "                    self.tail = tempNode\n",
    "            else:\n",
    "                tempNode = self.head\n",
    "                index = 0\n",
    "                while index < loc - 1:\n",
    "                    tempNode = tempNode.next\n",
    "                    index += 1\n",
    "                nextNode = tempNode.next\n",
    "                tempNode.next = nextNode.next\n"
   ]
  },
  {
   "cell_type": "code",
   "execution_count": 15,
   "metadata": {},
   "outputs": [
    {
     "data": {
      "text/plain": [
       "'The circular singly list created successfully'"
      ]
     },
     "execution_count": 15,
     "metadata": {},
     "output_type": "execute_result"
    }
   ],
   "source": [
    "circularSinglyLinkedList = CircularSingleLinkedList()\n",
    "circularSinglyLinkedList.create(\"Cat\")"
   ]
  },
  {
   "cell_type": "code",
   "execution_count": 16,
   "metadata": {},
   "outputs": [
    {
     "name": "stdout",
     "output_type": "stream",
     "text": [
      "Cat\n"
     ]
    }
   ],
   "source": [
    "circularSinglyLinkedList.print()"
   ]
  },
  {
   "cell_type": "code",
   "execution_count": 17,
   "metadata": {},
   "outputs": [
    {
     "data": {
      "text/plain": [
       "' The node has been inserted successfully'"
      ]
     },
     "execution_count": 17,
     "metadata": {},
     "output_type": "execute_result"
    }
   ],
   "source": [
    "circularSinglyLinkedList.insert(\"Dog\",0)\n",
    "circularSinglyLinkedList.insert(\"Tiger\",1)"
   ]
  },
  {
   "cell_type": "code",
   "execution_count": 18,
   "metadata": {},
   "outputs": [
    {
     "data": {
      "text/plain": [
       "' The node has been inserted successfully'"
      ]
     },
     "execution_count": 18,
     "metadata": {},
     "output_type": "execute_result"
    }
   ],
   "source": [
    "circularSinglyLinkedList.insert(\"Lion\",2)"
   ]
  },
  {
   "cell_type": "code",
   "execution_count": 19,
   "metadata": {},
   "outputs": [
    {
     "data": {
      "text/plain": [
       "' The node has been inserted successfully'"
      ]
     },
     "execution_count": 19,
     "metadata": {},
     "output_type": "execute_result"
    }
   ],
   "source": [
    "circularSinglyLinkedList.insert(\"Elephant\",1)"
   ]
  },
  {
   "cell_type": "code",
   "execution_count": 20,
   "metadata": {},
   "outputs": [
    {
     "name": "stdout",
     "output_type": "stream",
     "text": [
      "Dog\n",
      "Cat\n",
      "Lion\n",
      "Tiger\n",
      "Elephant\n"
     ]
    }
   ],
   "source": [
    "circularSinglyLinkedList.print()"
   ]
  },
  {
   "cell_type": "code",
   "execution_count": 21,
   "metadata": {},
   "outputs": [
    {
     "data": {
      "text/plain": [
       "'Cat'"
      ]
     },
     "execution_count": 21,
     "metadata": {},
     "output_type": "execute_result"
    }
   ],
   "source": [
    "circularSinglyLinkedList.find(\"Cat\")"
   ]
  },
  {
   "cell_type": "code",
   "execution_count": 22,
   "metadata": {},
   "outputs": [
    {
     "data": {
      "text/plain": [
       "\"The node value doesn't exist\""
      ]
     },
     "execution_count": 22,
     "metadata": {},
     "output_type": "execute_result"
    }
   ],
   "source": [
    "circularSinglyLinkedList.find(\"hbch\")"
   ]
  },
  {
   "cell_type": "code",
   "execution_count": 23,
   "metadata": {},
   "outputs": [
    {
     "name": "stdout",
     "output_type": "stream",
     "text": [
      "5\n"
     ]
    }
   ],
   "source": [
    "print(circularSinglyLinkedList.size())"
   ]
  },
  {
   "cell_type": "code",
   "execution_count": 24,
   "metadata": {},
   "outputs": [],
   "source": [
    "circularSinglyLinkedList.remove(1)"
   ]
  },
  {
   "cell_type": "code",
   "execution_count": 25,
   "metadata": {},
   "outputs": [
    {
     "name": "stdout",
     "output_type": "stream",
     "text": [
      "Dog\n",
      "Cat\n",
      "Lion\n",
      "Tiger\n"
     ]
    }
   ],
   "source": [
    "circularSinglyLinkedList.print()"
   ]
  },
  {
   "cell_type": "code",
   "execution_count": 26,
   "metadata": {},
   "outputs": [
    {
     "name": "stdout",
     "output_type": "stream",
     "text": [
      "Dog\n",
      "Cat\n",
      "Lion\n"
     ]
    }
   ],
   "source": [
    "circularSinglyLinkedList.remove(1)\n",
    "circularSinglyLinkedList.print()"
   ]
  },
  {
   "cell_type": "code",
   "execution_count": 27,
   "metadata": {},
   "outputs": [
    {
     "name": "stdout",
     "output_type": "stream",
     "text": [
      "Cat\n",
      "Lion\n"
     ]
    }
   ],
   "source": [
    "circularSinglyLinkedList.remove(0)\n",
    "circularSinglyLinkedList.print()"
   ]
  },
  {
   "cell_type": "code",
   "execution_count": 28,
   "metadata": {},
   "outputs": [],
   "source": [
    "class Node:\n",
    "    \n",
    "    def __init__(self,value = None):\n",
    "        self.value = value\n",
    "        self.next = None\n",
    "        self.prev = None\n"
   ]
  },
  {
   "cell_type": "code",
   "execution_count": 76,
   "metadata": {},
   "outputs": [],
   "source": [
    "class DoublyLinkedList:\n",
    "    def __init__(self):\n",
    "        self.head = None\n",
    "        self.tail = None\n",
    "    \n",
    "    def __iter__(self):\n",
    "        node = self.head\n",
    "        while node:\n",
    "            yield Node\n",
    "            node = node.next\n",
    "    \n",
    "    def create(self,value):\n",
    "        newNode = Node(value)\n",
    "        newNode.next = None\n",
    "        newNode.prev = None\n",
    "        self.head = newNode\n",
    "        self.tail = newNode\n",
    "\n",
    "    def insert(self,value,loc):\n",
    "        newNode = Node(value)\n",
    "        if self.head is None:\n",
    "            return \"The doubly linked list doesn't exist\"\n",
    "        else:\n",
    "            if loc == 0:\n",
    "                newNode.next = self.head\n",
    "                newNode.prev = None\n",
    "                self.head.prev = newNode\n",
    "                self.head = newNode\n",
    "                \n",
    "            elif loc == 1:\n",
    "                newNode.next = None\n",
    "                newNode.prev = self.tail\n",
    "                self.tail.next = newNode\n",
    "                self.tail = newNode\n",
    "            else:\n",
    "                tempNode = self.head\n",
    "                index = 0\n",
    "                while index < loc - 1:\n",
    "                    tempNode = tempNode.next\n",
    "                    index += 1\n",
    "                newNode.next = tempNode.next\n",
    "                newNode.prev = tempNode\n",
    "                newNode.next.prev = newNode\n",
    "                tempNode.next = newNode\n",
    "\n",
    "    def remove(self,loc):\n",
    "        if self.head is None:\n",
    "            return \"The doubly linked list doesn't exist\"\n",
    "        else:\n",
    "            if loc == 0:\n",
    "                if self.head == self.tail:\n",
    "                    self.head = None\n",
    "                    self.tail = None\n",
    "                else:\n",
    "                    self.head = self.head.next\n",
    "                    self.head.prev = None\n",
    "            elif loc == 1:\n",
    "                if self.head == self.tail:\n",
    "                    self.head = None\n",
    "                    self.tail = None\n",
    "                else:\n",
    "                    self.tail = self.tail.prev\n",
    "                    self.tail.next = None\n",
    "            else:\n",
    "                tempNode = self.head\n",
    "                index = 0\n",
    "                while index < loc - 1:\n",
    "                    tempNode = tempNode.next\n",
    "                    index += 1\n",
    "                nextNode.next = tempNode.next.next\n",
    "                newNode.next.prev = tempNode\n",
    "\n",
    "\n",
    "\n",
    "    def print(self):\n",
    "        if self.head is None:\n",
    "            return \"The doubly linked list doesn't exist\"\n",
    "        else:\n",
    "            tempNode = self.head\n",
    "            while tempNode is not None:\n",
    "                if tempNode.prev is not None:\n",
    "                    prev = tempNode.prev.value\n",
    "                else:\n",
    "                    prev = \"None\"\n",
    "                cur = tempNode.value\n",
    "                if tempNode.next is not None:\n",
    "                    nex = tempNode.next.value\n",
    "                else:\n",
    "                    nex = \"None\"\n",
    "                tempNode = tempNode.next\n",
    "                print(prev + \" <==> \"+cur+\" <==> \"+nex)\n",
    "\n"
   ]
  },
  {
   "cell_type": "code",
   "execution_count": 77,
   "metadata": {},
   "outputs": [],
   "source": [
    "doublyLinkedList = DoublyLinkedList()"
   ]
  },
  {
   "cell_type": "code",
   "execution_count": 78,
   "metadata": {},
   "outputs": [],
   "source": [
    "doublyLinkedList.create(\"Iron man\")"
   ]
  },
  {
   "cell_type": "code",
   "execution_count": 79,
   "metadata": {},
   "outputs": [],
   "source": [
    "doublyLinkedList.insert(\"Captain America\",0)"
   ]
  },
  {
   "cell_type": "code",
   "execution_count": 80,
   "metadata": {},
   "outputs": [],
   "source": [
    "doublyLinkedList.insert(\"Hulk\",1)"
   ]
  },
  {
   "cell_type": "code",
   "execution_count": 81,
   "metadata": {},
   "outputs": [
    {
     "name": "stdout",
     "output_type": "stream",
     "text": [
      "None <==> Captain America <==> Iron man\n",
      "Captain America <==> Iron man <==> Hulk\n",
      "Iron man <==> Hulk <==> None\n"
     ]
    }
   ],
   "source": [
    "doublyLinkedList.print()"
   ]
  },
  {
   "cell_type": "code",
   "execution_count": 82,
   "metadata": {},
   "outputs": [],
   "source": [
    "doublyLinkedList.remove(0)"
   ]
  },
  {
   "cell_type": "code",
   "execution_count": 83,
   "metadata": {},
   "outputs": [
    {
     "name": "stdout",
     "output_type": "stream",
     "text": [
      "None <==> Iron man <==> Hulk\n",
      "Iron man <==> Hulk <==> None\n"
     ]
    }
   ],
   "source": [
    "doublyLinkedList.print()"
   ]
  },
  {
   "cell_type": "code",
   "execution_count": 84,
   "metadata": {},
   "outputs": [],
   "source": [
    "doublyLinkedList.insert(\"Widow\",0)"
   ]
  },
  {
   "cell_type": "code",
   "execution_count": 85,
   "metadata": {},
   "outputs": [
    {
     "name": "stdout",
     "output_type": "stream",
     "text": [
      "None <==> Widow <==> Iron man\n",
      "Widow <==> Iron man <==> Hulk\n",
      "Iron man <==> Hulk <==> None\n"
     ]
    }
   ],
   "source": [
    "doublyLinkedList.print()"
   ]
  },
  {
   "cell_type": "code",
   "execution_count": 137,
   "metadata": {},
   "outputs": [],
   "source": [
    "class CircularDoublyLinkedList:\n",
    "    def __init__(self,value=None):\n",
    "        self.head = None\n",
    "        self.tail = None\n",
    "\n",
    "    def create(self,value):\n",
    "        node = Node(value)\n",
    "        self.head = node\n",
    "        self.tail = node\n",
    "        node.next = node\n",
    "        node.prev = node\n",
    "    \n",
    "    def __iter__(self):\n",
    "        node = self.head\n",
    "        while node:\n",
    "            yield Node\n",
    "            node = node.next\n",
    "            if node == self.tail:\n",
    "                break\n",
    "    def print(self):\n",
    "        if self.head is None:\n",
    "            return \"The Circular doubly linked list doesn't exist\"\n",
    "        tempNode = self.head\n",
    "        while tempNode:\n",
    "            print(tempNode.value)\n",
    "            if tempNode == self.tail:\n",
    "                break\n",
    "            tempNode = tempNode.next\n",
    "\n",
    "\n",
    "\n",
    "\n",
    "    def insert(self,value,loc=0):\n",
    "        newNode = Node(value)\n",
    "        if self.head is None:\n",
    "            self.create(value)\n",
    "        else:\n",
    "            if loc == 0:\n",
    "                newNode.next = self.head\n",
    "                newNode.prev = self.tail\n",
    "                self.head.prev = newNode\n",
    "                self.head = newNode\n",
    "                self.tail.next = newNode\n",
    "            elif loc == 1:\n",
    "                newNode.prev = self.tail\n",
    "                newNode.next = self.head\n",
    "                self.head.prev = newNode\n",
    "                self.tail.next = newNode\n",
    "                self.tail = newNode\n",
    "            else:\n",
    "                tempNode = self.head\n",
    "                index = 0\n",
    "                while index < loc - 1 :\n",
    "                    tempNode = tempNode.next\n",
    "                    index += 1\n",
    "                newNode.next = tempNode.next\n",
    "                newNode.prev = tempNode\n",
    "                newNode.next.prev = newNode\n",
    "                tempNode.next = newNode\n",
    "    \n",
    "    def remove(self,loc):\n",
    "        if self.head is None:\n",
    "            return \"The circular doubly linked list doesn't exist\"\n",
    "        else:\n",
    "            if loc == 0:\n",
    "                if self.head == self.tail:\n",
    "                    self.head = None\n",
    "                    self.tail = None\n",
    "                else:\n",
    "                    self.head.prev = self.tail\n",
    "                    self.head = self.head.next\n",
    "                    self.tail.next = self.head\n",
    "            elif loc == 1:\n",
    "                if self.head == self.tail:\n",
    "                    self.head = None\n",
    "                    self.tail = None\n",
    "                else:\n",
    "                    self.tail = self.tail.prev\n",
    "                    self.head.prev = self.tail\n",
    "                    self.tail.next = self.head\n",
    "            else:\n",
    "                tempNode = self.head\n",
    "                index = 0\n",
    "                while index < loc - 1:\n",
    "                    tempNode = tempNode.next\n",
    "                    index += 1\n",
    "                tempNode.next = tempNode.next.next\n",
    "                tempNode.next.prev = tempNode\n",
    "                \n",
    "                \n",
    "            \n",
    "\n",
    "\n",
    "\n"
   ]
  },
  {
   "cell_type": "code",
   "execution_count": 138,
   "metadata": {},
   "outputs": [],
   "source": [
    "circularDoublyLinkedList = CircularDoublyLinkedList()"
   ]
  },
  {
   "cell_type": "code",
   "execution_count": 139,
   "metadata": {},
   "outputs": [
    {
     "data": {
      "text/plain": [
       "\"The Circular doubly linked list doesn't exist\""
      ]
     },
     "execution_count": 139,
     "metadata": {},
     "output_type": "execute_result"
    }
   ],
   "source": [
    "circularDoublyLinkedList.print()"
   ]
  },
  {
   "cell_type": "code",
   "execution_count": 140,
   "metadata": {},
   "outputs": [],
   "source": [
    "circularDoublyLinkedList.insert(\"Cat\")"
   ]
  },
  {
   "cell_type": "code",
   "execution_count": 141,
   "metadata": {},
   "outputs": [
    {
     "name": "stdout",
     "output_type": "stream",
     "text": [
      "Cat\n"
     ]
    }
   ],
   "source": [
    "circularDoublyLinkedList.print()"
   ]
  },
  {
   "cell_type": "code",
   "execution_count": 142,
   "metadata": {},
   "outputs": [],
   "source": [
    "circularDoublyLinkedList.insert(\"Dog\")"
   ]
  },
  {
   "cell_type": "code",
   "execution_count": 143,
   "metadata": {},
   "outputs": [
    {
     "name": "stdout",
     "output_type": "stream",
     "text": [
      "Dog\n",
      "Cat\n"
     ]
    }
   ],
   "source": [
    "circularDoublyLinkedList.print()"
   ]
  },
  {
   "cell_type": "code",
   "execution_count": 144,
   "metadata": {},
   "outputs": [],
   "source": [
    "circularDoublyLinkedList.insert(\"Tiger\")"
   ]
  },
  {
   "cell_type": "code",
   "execution_count": 145,
   "metadata": {},
   "outputs": [
    {
     "name": "stdout",
     "output_type": "stream",
     "text": [
      "Tiger\n",
      "Dog\n",
      "Cat\n"
     ]
    }
   ],
   "source": [
    "circularDoublyLinkedList.print()"
   ]
  },
  {
   "cell_type": "code",
   "execution_count": 146,
   "metadata": {},
   "outputs": [],
   "source": [
    "circularDoublyLinkedList.insert(\"Tiger\",1)"
   ]
  },
  {
   "cell_type": "code",
   "execution_count": 147,
   "metadata": {},
   "outputs": [
    {
     "name": "stdout",
     "output_type": "stream",
     "text": [
      "Tiger\n",
      "Dog\n",
      "Cat\n",
      "Tiger\n"
     ]
    }
   ],
   "source": [
    "circularDoublyLinkedList.print()"
   ]
  },
  {
   "cell_type": "code",
   "execution_count": 148,
   "metadata": {},
   "outputs": [],
   "source": [
    "circularDoublyLinkedList.insert(\"Lion\",3)"
   ]
  },
  {
   "cell_type": "code",
   "execution_count": 149,
   "metadata": {},
   "outputs": [
    {
     "name": "stdout",
     "output_type": "stream",
     "text": [
      "Tiger\n",
      "Dog\n",
      "Cat\n",
      "Lion\n",
      "Tiger\n"
     ]
    }
   ],
   "source": [
    "circularDoublyLinkedList.print()"
   ]
  },
  {
   "cell_type": "code",
   "execution_count": 150,
   "metadata": {},
   "outputs": [],
   "source": [
    "circularDoublyLinkedList.insert(\"Elephant\",2)"
   ]
  },
  {
   "cell_type": "code",
   "execution_count": 151,
   "metadata": {},
   "outputs": [
    {
     "name": "stdout",
     "output_type": "stream",
     "text": [
      "Tiger\n",
      "Dog\n",
      "Elephant\n",
      "Cat\n",
      "Lion\n",
      "Tiger\n"
     ]
    }
   ],
   "source": [
    "circularDoublyLinkedList.print()"
   ]
  },
  {
   "cell_type": "code",
   "execution_count": 152,
   "metadata": {},
   "outputs": [],
   "source": [
    "circularDoublyLinkedList.remove(1)"
   ]
  },
  {
   "cell_type": "code",
   "execution_count": 153,
   "metadata": {},
   "outputs": [
    {
     "name": "stdout",
     "output_type": "stream",
     "text": [
      "Tiger\n",
      "Dog\n",
      "Elephant\n",
      "Cat\n",
      "Lion\n"
     ]
    }
   ],
   "source": [
    "circularDoublyLinkedList.print()"
   ]
  },
  {
   "cell_type": "code",
   "execution_count": 154,
   "metadata": {},
   "outputs": [],
   "source": [
    "circularDoublyLinkedList.remove(2)"
   ]
  },
  {
   "cell_type": "code",
   "execution_count": 155,
   "metadata": {},
   "outputs": [
    {
     "name": "stdout",
     "output_type": "stream",
     "text": [
      "Tiger\n",
      "Dog\n",
      "Cat\n",
      "Lion\n"
     ]
    }
   ],
   "source": [
    "circularDoublyLinkedList.print()"
   ]
  },
  {
   "cell_type": "code",
   "execution_count": null,
   "metadata": {},
   "outputs": [],
   "source": []
  }
 ],
 "metadata": {
  "interpreter": {
   "hash": "b671c20432fcd147198c92e7f072af9e705f087eb990bee22b07f08caab9f630"
  },
  "kernelspec": {
   "display_name": "Python 3.9.7 64-bit",
   "language": "python",
   "name": "python3"
  },
  "language_info": {
   "codemirror_mode": {
    "name": "ipython",
    "version": 3
   },
   "file_extension": ".py",
   "mimetype": "text/x-python",
   "name": "python",
   "nbconvert_exporter": "python",
   "pygments_lexer": "ipython3",
   "version": "3.9.7"
  },
  "orig_nbformat": 4
 },
 "nbformat": 4,
 "nbformat_minor": 2
}
