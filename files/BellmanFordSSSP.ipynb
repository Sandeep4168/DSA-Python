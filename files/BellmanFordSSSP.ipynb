{
 "cells": [
  {
   "cell_type": "markdown",
   "metadata": {},
   "source": [
    "Bellman ford algorithm is used to find single source shortest path problem, If there is a negative cycle it catches it and report its existence"
   ]
  },
  {
   "cell_type": "code",
   "execution_count": 7,
   "metadata": {},
   "outputs": [],
   "source": [
    "class Graph:\n",
    "    def __init__(self,vertices):\n",
    "        self.v = vertices\n",
    "        self.graph = []\n",
    "        self.nodes = []\n",
    "        \n",
    "    def addNode(self,value):\n",
    "        self.nodes.append(value)\n",
    "    \n",
    "    def addEdge(self,fromNode,toNode,weight):\n",
    "        self.graph.append([fromNode,toNode,weight])\n",
    "    \n",
    "    def print_solution(self,dist):\n",
    "        print(\"Vertex distance from source\")\n",
    "        for key, value in dist.items():\n",
    "            print(\" \"+key,\" \",value)\n",
    "    \n",
    "    def bellmanford(self,source):\n",
    "        dist = {i : float(\"Inf\") for i in self.nodes}\n",
    "        dist[source] = 0\n",
    "        \n",
    "        for _ in range(self.v -1) :\n",
    "            for s, d, w in self.graph:\n",
    "                if dist[s] != float(\"Inf\") and dist[d] > dist[s] + w:\n",
    "                    dist[d] = dist[s] + w\n",
    "        \n",
    "        for s, d, w in self.graph:\n",
    "            if dist[s] != float(\"Inf\") and dist[d] > dist[s] + w:\n",
    "                print(\"There is a negativae cycle in graph\")  \n",
    "                return\n",
    "            \n",
    "        self.print_solution(dist)\n",
    "\n",
    "            \n",
    "        \n",
    "        \n",
    "        "
   ]
  },
  {
   "cell_type": "code",
   "execution_count": 8,
   "metadata": {},
   "outputs": [],
   "source": [
    "customGraph = Graph(5)"
   ]
  },
  {
   "cell_type": "code",
   "execution_count": 9,
   "metadata": {},
   "outputs": [],
   "source": [
    "customGraph.addNode(\"A\")\n",
    "customGraph.addNode(\"B\")\n",
    "customGraph.addNode(\"C\")\n",
    "customGraph.addNode(\"D\")\n",
    "customGraph.addNode(\"E\")"
   ]
  },
  {
   "cell_type": "code",
   "execution_count": 10,
   "metadata": {},
   "outputs": [],
   "source": [
    "customGraph.addEdge(\"A\",\"C\",6)\n",
    "customGraph.addEdge(\"A\",\"D\",6)\n",
    "customGraph.addEdge(\"B\",\"A\",3)\n",
    "customGraph.addEdge(\"C\",\"D\",1)\n",
    "customGraph.addEdge(\"D\",\"C\",2)\n",
    "customGraph.addEdge(\"D\",\"B\",1)\n",
    "customGraph.addEdge(\"E\",\"B\",4)\n",
    "customGraph.addEdge(\"E\",\"D\",2)"
   ]
  },
  {
   "cell_type": "code",
   "execution_count": 12,
   "metadata": {},
   "outputs": [
    {
     "name": "stdout",
     "output_type": "stream",
     "text": [
      "Vertex distance from source\n",
      " A   6\n",
      " B   3\n",
      " C   4\n",
      " D   2\n",
      " E   0\n"
     ]
    }
   ],
   "source": [
    "customGraph.bellmanford(\"E\")"
   ]
  },
  {
   "cell_type": "code",
   "execution_count": null,
   "metadata": {},
   "outputs": [],
   "source": []
  }
 ],
 "metadata": {
  "kernelspec": {
   "display_name": "Python 3.9.7 64-bit",
   "language": "python",
   "name": "python3"
  },
  "language_info": {
   "codemirror_mode": {
    "name": "ipython",
    "version": 3
   },
   "file_extension": ".py",
   "mimetype": "text/x-python",
   "name": "python",
   "nbconvert_exporter": "python",
   "pygments_lexer": "ipython3",
   "version": "3.9.7"
  },
  "orig_nbformat": 4,
  "vscode": {
   "interpreter": {
    "hash": "b671c20432fcd147198c92e7f072af9e705f087eb990bee22b07f08caab9f630"
   }
  }
 },
 "nbformat": 4,
 "nbformat_minor": 2
}
