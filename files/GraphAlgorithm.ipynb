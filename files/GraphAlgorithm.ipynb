{
 "cells": [
  {
   "cell_type": "markdown",
   "metadata": {},
   "source": [
    "Graph algorithm is the non-linear algorithm , which have nodes and vertices\n"
   ]
  },
  {
   "cell_type": "markdown",
   "metadata": {},
   "source": [
    "Graphs terminology:\n",
    "\n",
    "- Verices: Vertices are the nodes of the graph algorithm\n",
    "- Edge: Line that connects the edges in the garph algorithm\n",
    "- Unweighted graph: A graph which do no have weight connected to the edge\n",
    "- Weighted graph: A graph which have weight connected to the edge\n",
    "- Directed graph: If the graph have edges with directed edges\n",
    "- Undirected graph : if the graph do not have directed edges\n",
    "- Cyclic graph: if the graph algorithm has atleast one loop\n"
   ]
  },
  {
   "cell_type": "markdown",
   "metadata": {},
   "source": [
    "![Graph Types](GraphTypes.png)\n"
   ]
  },
  {
   "cell_type": "markdown",
   "metadata": {},
   "source": [
    "Graph Representation:\n",
    "Adjacency matrix : An adajency matrix is sqaure matrix or a 2D array,and the elements of the matrix indicates whether pairs of adjacent or not in graph.\n",
    "\n",
    "![Graph Representation](graphRepresentation.png)\n"
   ]
  },
  {
   "cell_type": "markdown",
   "metadata": {},
   "source": [
    "Adjacency list: an adjacency list is the list containing the unordered list used to represent the graph.Each list describes the set of neighbors of a vertex graph\n",
    "\n",
    "![Adjacency List](AdjacencyList.png)\n"
   ]
  },
  {
   "cell_type": "code",
   "execution_count": 1,
   "metadata": {},
   "outputs": [],
   "source": [
    "class Graph:\n",
    "    def __init__(self,gdict=None):\n",
    "        if gdict is None:\n",
    "            gdict = {}\n",
    "        self.gdict = gdict\n",
    "    \n",
    "    def addEdge(self,vertex,edge):\n",
    "        self.gdict[vertex].append(edge)\n",
    "    \n",
    "    def print(self):\n",
    "        print(self.gdict)\n",
    "    \n",
    "    def bfs(self,vertex):\n",
    "        visited = [vertex]\n",
    "        queue = [vertex]\n",
    "        \n",
    "        while queue:\n",
    "            deVertex = queue.pop(0)\n",
    "            print(deVertex)\n",
    "            for adjacentVertex in self.gdict[deVertex]:\n",
    "                if adjacentVertex not in visited:\n",
    "                    visited.append(adjacentVertex)\n",
    "                    queue.append(adjacentVertex)\n",
    "    \n",
    "    def dfs(self,vertex):\n",
    "        visited = [vertex]\n",
    "        stack = [vertex]\n",
    "        \n",
    "        while stack:\n",
    "            popVertex = stack.pop()\n",
    "            print(popVertex)\n",
    "            \n",
    "            for adjacentVertex in self.gdict[popVertex]:\n",
    "                if adjacentVertex not in visited:\n",
    "                    visited.append(adjacentVertex)\n",
    "                    stack.append(adjacentVertex)\n",
    "        \n",
    "            \n",
    "                    \n"
   ]
  },
  {
   "cell_type": "code",
   "execution_count": 2,
   "metadata": {},
   "outputs": [],
   "source": [
    "customDict = {\n",
    "    \"a\" : [\"b\",\"c\"],\n",
    "    \"b\" : [\"a\",\"d\",\"e\"],\n",
    "    \"c\" : [\"a\",\"e\"],\n",
    "    \"d\" : [\"b\",\"e\",\"f\"],\n",
    "    \"e\" : [\"d\",\"f\"],\n",
    "    \"f\" : [\"d\",\"e\"]\n",
    "}"
   ]
  },
  {
   "cell_type": "code",
   "execution_count": 3,
   "metadata": {},
   "outputs": [],
   "source": [
    "graph = Graph(customDict)"
   ]
  },
  {
   "cell_type": "code",
   "execution_count": 4,
   "metadata": {},
   "outputs": [
    {
     "name": "stdout",
     "output_type": "stream",
     "text": [
      "{'a': ['b', 'c'], 'b': ['a', 'd', 'e'], 'c': ['a', 'e'], 'd': ['b', 'e', 'f'], 'e': ['d', 'f'], 'f': ['d', 'e']}\n"
     ]
    }
   ],
   "source": [
    "graph.print()"
   ]
  },
  {
   "cell_type": "markdown",
   "metadata": {},
   "source": [
    "Breadth First Search: Starts with a arbitrary node and explores the neighboring nodes\n"
   ]
  },
  {
   "cell_type": "code",
   "execution_count": 5,
   "metadata": {},
   "outputs": [
    {
     "name": "stdout",
     "output_type": "stream",
     "text": [
      "a\n",
      "b\n",
      "c\n",
      "d\n",
      "e\n",
      "f\n"
     ]
    }
   ],
   "source": [
    "graph.bfs(\"a\")"
   ]
  },
  {
   "cell_type": "markdown",
   "metadata": {},
   "source": [
    "Depth First search: DFS is the algorithm for traversing the graph data structure from an arbitrary node and explores as far as possible along each edge before backtracking\n",
    "\n",
    "![Depth first Search](DepthFirstSearch.png)\n"
   ]
  },
  {
   "cell_type": "code",
   "execution_count": 6,
   "metadata": {},
   "outputs": [
    {
     "name": "stdout",
     "output_type": "stream",
     "text": [
      "a\n",
      "c\n",
      "e\n",
      "f\n",
      "d\n",
      "b\n"
     ]
    }
   ],
   "source": [
    "graph.dfs(\"a\")"
   ]
  },
  {
   "cell_type": "markdown",
   "metadata": {},
   "source": [
    "When to use?\n",
    "BFS is used when the target element is near to the starting point, and DFS is used when the target element is used in buried deep.\n"
   ]
  },
  {
   "cell_type": "markdown",
   "metadata": {},
   "source": [
    "Topological Sort: Sorts actions in such a way that, If there is a dependency of one action on another, then the dependent action always comes later than the parent action\n"
   ]
  },
  {
   "cell_type": "code",
   "execution_count": 18,
   "metadata": {},
   "outputs": [],
   "source": [
    "from collections import defaultdict\n",
    "\n",
    "class GraphOne:\n",
    "    def __init__(self,numOfVertices):\n",
    "        self.graph = defaultdict(list)\n",
    "        self.numOfVertices = numOfVertices\n",
    "    \n",
    "    def addEdge(self,vertex,edge):\n",
    "        self.graph[vertex].append(edge)\n",
    "        \n",
    "    def topologicalSortUtil(self,v,visited,stack):\n",
    "        visited.append(v)\n",
    "        \n",
    "        for i in self.graph[v]:\n",
    "            if i not in visited:\n",
    "                self.topologicalSortUtil(i,visited,stack)\n",
    "        \n",
    "        stack.insert(0,v)\n",
    "        \n",
    "    def topologicalSort(self):\n",
    "        visited = []\n",
    "        stack = []\n",
    "        \n",
    "        for k in list(self.graph):\n",
    "            if k not in visited:\n",
    "                self.topologicalSortUtil(k,visited,stack)\n",
    "        \n",
    "        print(stack)\n",
    "        \n",
    "        "
   ]
  },
  {
   "cell_type": "code",
   "execution_count": 19,
   "metadata": {},
   "outputs": [],
   "source": [
    "graphOne = GraphOne(8)"
   ]
  },
  {
   "cell_type": "code",
   "execution_count": 20,
   "metadata": {},
   "outputs": [],
   "source": [
    "graphOne.addEdge(\"A\",\"C\")\n",
    "graphOne.addEdge(\"C\",\"E\")\n",
    "graphOne.addEdge(\"E\",\"H\")\n",
    "graphOne.addEdge(\"E\",\"F\")\n",
    "graphOne.addEdge(\"F\",\"G\")\n",
    "graphOne.addEdge(\"B\",\"D\")\n",
    "graphOne.addEdge(\"B\",\"C\")\n",
    "graphOne.addEdge(\"D\",\"F\")"
   ]
  },
  {
   "cell_type": "code",
   "execution_count": 21,
   "metadata": {},
   "outputs": [
    {
     "name": "stdout",
     "output_type": "stream",
     "text": [
      "['B', 'D', 'A', 'C', 'E', 'F', 'G', 'H']\n"
     ]
    }
   ],
   "source": [
    "graphOne.topologicalSort()"
   ]
  },
  {
   "cell_type": "code",
   "execution_count": null,
   "metadata": {},
   "outputs": [],
   "source": []
  },
  {
   "cell_type": "code",
   "execution_count": null,
   "metadata": {},
   "outputs": [],
   "source": []
  }
 ],
 "metadata": {
  "kernelspec": {
   "display_name": "Python 3.9.7 64-bit",
   "language": "python",
   "name": "python3"
  },
  "language_info": {
   "codemirror_mode": {
    "name": "ipython",
    "version": 3
   },
   "file_extension": ".py",
   "mimetype": "text/x-python",
   "name": "python",
   "nbconvert_exporter": "python",
   "pygments_lexer": "ipython3",
   "version": "3.9.7"
  },
  "orig_nbformat": 4,
  "vscode": {
   "interpreter": {
    "hash": "b671c20432fcd147198c92e7f072af9e705f087eb990bee22b07f08caab9f630"
   }
  }
 },
 "nbformat": 4,
 "nbformat_minor": 2
}
