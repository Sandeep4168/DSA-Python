{
 "cells": [
  {
   "cell_type": "markdown",
   "metadata": {},
   "source": [
    "Hashing is a method of sorting and indexing data. The idea behind hashing is to allow large amounts of data to be indexed using keys commonly created by formulas\n",
    "\n",
    "**Hashing Terminology**:\n",
    "- Hash function: It is a function that can be used to map of arbitrary size to data of fixed size.\n",
    "- Input data by user\n",
    "- Hash value: A value that is returned by Hash function\n",
    "- Hash Table: It is a data structure which implements an associative array abstract data type, a structure that can map keys to values\n",
    "- A collison occurs when two different keys to a hash function produce the same output."
   ]
  },
  {
   "cell_type": "markdown",
   "metadata": {},
   "source": []
  }
 ],
 "metadata": {
  "language_info": {
   "name": "python"
  },
  "orig_nbformat": 4
 },
 "nbformat": 4,
 "nbformat_minor": 2
}
