{
 "cells": [
  {
   "cell_type": "markdown",
   "metadata": {},
   "source": [
    "Tree data structure is a Non-linear data structure which stores data in hierarchical relationship between it's elements without having any cycle,"
   ]
  },
  {
   "cell_type": "markdown",
   "metadata": {},
   "source": [
    "Tree Terminilogy:\n",
    "- **Root** : Top node without parent\n",
    "- **Edge** : a link between parent andchild\n",
    "- **Leaf** : a node which doea not have children\n",
    "- **Sibling** : children of same parent\n",
    "- **Ancestor** : parent,grandparent,great grandparent of a node\n",
    "- **Depth of Node** : a length of the path from root to node\n",
    "- **Height of node** : a length of path from node to the deepest node\n",
    "- **Depth of Tree** : depth of root node"
   ]
  },
  {
   "cell_type": "code",
   "execution_count": 2,
   "metadata": {},
   "outputs": [
    {
     "name": "stdout",
     "output_type": "stream",
     "text": [
      "Drinks\n",
      " Cold\n",
      "  Coco-Cola\n",
      "  Pepsi\n",
      " Hot\n",
      "  Coffee\n",
      "  Tea\n",
      "\n"
     ]
    }
   ],
   "source": [
    "class TreeNode:\n",
    "    def __init__(self,value,children=[]):\n",
    "        self.value = value \n",
    "        self.children = children\n",
    "    \n",
    "    def __str__(self,level = 0):\n",
    "        ret = \" \" * level + str(self.value) +\"\\n\"\n",
    "        for child in self.children:\n",
    "            ret += child.__str__(level + 1)\n",
    "        return ret\n",
    "    def addchild(self,TreeNode):\n",
    "        self.children.append(TreeNode)\n",
    "\n",
    "tree = TreeNode(\"Drinks\",[])\n",
    "cold = TreeNode(\"Cold\",[])\n",
    "hot = TreeNode(\"Hot\",[])\n",
    "coffee = TreeNode(\"Coffee\",[])\n",
    "tea = TreeNode(\"Tea\",[])\n",
    "cococola = TreeNode(\"Coco-Cola\",[])\n",
    "pepsi = TreeNode(\"Pepsi\",[])\n",
    "\n",
    "tree.addchild(cold)\n",
    "tree.addchild(hot)\n",
    "cold.addchild(cococola)\n",
    "cold.addchild(pepsi)\n",
    "hot.addchild(coffee)\n",
    "hot.addchild(tea)\n",
    "print(tree)\n",
    "            "
   ]
  },
  {
   "cell_type": "markdown",
   "metadata": {},
   "source": [
    "![Tree by List](TreeByList.png)"
   ]
  },
  {
   "cell_type": "code",
   "execution_count": 3,
   "metadata": {},
   "outputs": [],
   "source": [
    "# Tree by Linked List\n",
    "\n",
    "class TreeByLinkedList:\n",
    "    def __init__(self,value):\n",
    "        self.value = value\n",
    "        self.leftChild = None\n",
    "        self.rightChild = None\n",
    "        \n",
    "        "
   ]
  },
  {
   "cell_type": "markdown",
   "metadata": {},
   "source": [
    "**Depth first traversal**:\n",
    "- Preorder Traversal\n",
    "- Inorder Traversal\n",
    "- Postorder Traversal\n",
    "\n",
    "**Breadth first traversal**:\n",
    "- level order Traversal"
   ]
  },
  {
   "cell_type": "code",
   "execution_count": 4,
   "metadata": {},
   "outputs": [],
   "source": [
    "drinks = TreeByLinkedList(\"Drinks\")"
   ]
  },
  {
   "cell_type": "code",
   "execution_count": 5,
   "metadata": {},
   "outputs": [
    {
     "name": "stdout",
     "output_type": "stream",
     "text": [
      "<__main__.TreeByLinkedList object at 0x00000184ADF2DEE0>\n"
     ]
    }
   ],
   "source": [
    "leftChild = TreeByLinkedList(\"Cold\")\n",
    "rightChild = TreeByLinkedList(\"Hot\")\n",
    "coffee = TreeByLinkedList(\"Coffee\")\n",
    "tea = TreeByLinkedList(\"Tea\")\n",
    "cococola = TreeByLinkedList(\"Coco-Cola\")\n",
    "pepsi = TreeByLinkedList(\"Pepsi\")\n",
    "\n",
    "drinks.leftChild = leftChild\n",
    "drinks.rightChild = rightChild\n",
    "drinks.leftChild.leftChild = cococola\n",
    "drinks.leftChild.rightChild = pepsi\n",
    "drinks.rightChild.leftChild = coffee\n",
    "drinks.rightChild.rightChild = tea\n",
    "print(drinks)"
   ]
  },
  {
   "cell_type": "code",
   "execution_count": 6,
   "metadata": {},
   "outputs": [
    {
     "name": "stdout",
     "output_type": "stream",
     "text": [
      "Drinks\n",
      "Cold\n",
      "Coco-Cola\n",
      "Pepsi\n",
      "Hot\n",
      "Coffee\n",
      "Tea\n"
     ]
    }
   ],
   "source": [
    "# Preorder Traversal\n",
    "\n",
    "def pre_order_traversal(rootnode):\n",
    "    if not rootnode:\n",
    "        return\n",
    "    print(rootnode.value)\n",
    "    pre_order_traversal(rootnode.leftChild)\n",
    "    pre_order_traversal(rootnode.rightChild)\n",
    "\n",
    "pre_order_traversal(drinks)\n",
    "    "
   ]
  },
  {
   "cell_type": "code",
   "execution_count": 7,
   "metadata": {},
   "outputs": [
    {
     "name": "stdout",
     "output_type": "stream",
     "text": [
      "Coco-Cola\n",
      "Cold\n",
      "Pepsi\n",
      "Drinks\n",
      "Coffee\n",
      "Hot\n",
      "Tea\n"
     ]
    }
   ],
   "source": [
    "def in_order_traversal(rootnode):\n",
    "    if not rootnode:\n",
    "        return \n",
    "    in_order_traversal(rootnode.leftChild)\n",
    "    print(rootnode.value)\n",
    "    in_order_traversal(rootnode.rightChild)\n",
    "\n",
    "in_order_traversal(drinks)"
   ]
  },
  {
   "cell_type": "code",
   "execution_count": 8,
   "metadata": {},
   "outputs": [
    {
     "name": "stdout",
     "output_type": "stream",
     "text": [
      "Coco-Cola\n",
      "Pepsi\n",
      "Cold\n",
      "Coffee\n",
      "Tea\n",
      "Hot\n",
      "Drinks\n"
     ]
    }
   ],
   "source": [
    "def post_order_traversal(rootnode):\n",
    "    if not rootnode:\n",
    "        return \n",
    "    post_order_traversal(rootnode.leftChild)\n",
    "    post_order_traversal(rootnode.rightChild)\n",
    "    print(rootnode.value)\n",
    "\n",
    "post_order_traversal(drinks)"
   ]
  },
  {
   "cell_type": "code",
   "execution_count": 9,
   "metadata": {},
   "outputs": [],
   "source": [
    "class Node:\n",
    "    def __init__(self,value=None):\n",
    "        self.value = value\n",
    "        self.next = None\n",
    "        \n",
    "    def __str__(self):\n",
    "        return str(self.value)\n",
    "        \n",
    "class LinkedList:\n",
    "    def __init__(self):\n",
    "        self.head = None\n",
    "        self.tail = None\n",
    "        \n",
    "    def __iter__(self):\n",
    "        curNode = self.head\n",
    "        while curNode :\n",
    "            yield curNode\n",
    "            curNode = curNode.next\n",
    "\n",
    "class QueueByLinkedList:\n",
    "    def __init__(self):\n",
    "        self.LinkedList = LinkedList()\n",
    "    \n",
    "    def __str__(self):\n",
    "        values = [str(x) for x in self.LinkedList]\n",
    "        return \" \".join(values)\n",
    "    \n",
    "    def isEmpty(self):\n",
    "        return True if self.LinkedList.head == None else False\n",
    "    \n",
    "    def enqueue(self,value):\n",
    "        node = Node(value)\n",
    "        if self.LinkedList.head == None:\n",
    "            self.LinkedList.head = node\n",
    "            self.LinkedList.tail = node\n",
    "            \n",
    "        else:\n",
    "            self.LinkedList.tail.next = node\n",
    "            self.LinkedList.tail = node\n",
    "    def dequeue(self):\n",
    "        if self.LinkedList.head == None:\n",
    "            return \"The queue is empty\"\n",
    "        elif self.LinkedList.head == self.LinkedList.tail:\n",
    "            tempNode = self.LinkedList.head\n",
    "            self.LinkedList.head = None\n",
    "            self.LinkedList.tail = None\n",
    "            return tempNode.value\n",
    "        else:\n",
    "            tempNode = self.LinkedList.head\n",
    "            self.LinkedList.head = self.LinkedList.head.next\n",
    "            return tempNode.value\n",
    "        \n",
    "    def peek(self):\n",
    "        if self.LinkedList.head == None:\n",
    "            return \"The queue is empty\"\n",
    "        else:\n",
    "            return self.LinkedList.head.value\n",
    "        \n",
    "\n",
    "            "
   ]
  },
  {
   "cell_type": "code",
   "execution_count": 10,
   "metadata": {},
   "outputs": [],
   "source": [
    "def level_order_traversal(rootnode):\n",
    "    if not rootnode:\n",
    "        return \n",
    "    else:\n",
    "        queue = QueueByLinkedList()\n",
    "        queue.enqueue(rootnode)\n",
    "        while not (queue.isEmpty()):\n",
    "            root = queue.dequeue()\n",
    "            print(root.value)\n",
    "            if (root.leftChild) is not None:\n",
    "                queue.enqueue(root.leftChild)\n",
    "            if (root.rightChild) is not None:\n",
    "                queue.enqueue(root.rightChild)\n",
    "        \n"
   ]
  },
  {
   "cell_type": "code",
   "execution_count": 11,
   "metadata": {},
   "outputs": [
    {
     "name": "stdout",
     "output_type": "stream",
     "text": [
      "Drinks\n",
      "Cold\n",
      "Hot\n",
      "Coco-Cola\n",
      "Pepsi\n",
      "Coffee\n",
      "Tea\n"
     ]
    }
   ],
   "source": [
    "level_order_traversal(drinks)"
   ]
  },
  {
   "cell_type": "code",
   "execution_count": 12,
   "metadata": {},
   "outputs": [],
   "source": [
    "# Serach value in Binary Tree(Linked List)\n",
    "\n",
    "def search_value_binary_tree(rootnode,nodeValue):\n",
    "    if not rootnode:\n",
    "        return \"The binary doesn't exist\"\n",
    "    else:\n",
    "        queue = QueueByLinkedList()\n",
    "        queue.enqueue(rootnode)\n",
    "        while not (queue.isEmpty()):\n",
    "            root = queue.dequeue()\n",
    "            if root.value == nodeValue:\n",
    "                return \"The \"+str(nodeValue)+\" exists in Binary Tree\"\n",
    "                        \n",
    "            if (root.leftChild) is not None:\n",
    "                    queue.enqueue(root.leftChild)\n",
    "                    \n",
    "            if (root.rightChild) is not None:\n",
    "                    queue.enqueue(root.rightChild)\n",
    "        return \"The \"+str(nodeValue)+\" doesn't exists in Binary Tree\"\n",
    "                \n",
    "          \n",
    "            "
   ]
  },
  {
   "cell_type": "code",
   "execution_count": 13,
   "metadata": {},
   "outputs": [
    {
     "data": {
      "text/plain": [
       "'The Coffee exists in Binary Tree'"
      ]
     },
     "execution_count": 13,
     "metadata": {},
     "output_type": "execute_result"
    }
   ],
   "source": [
    "search_value_binary_tree(drinks,\"Coffee\")"
   ]
  },
  {
   "cell_type": "code",
   "execution_count": 14,
   "metadata": {},
   "outputs": [
    {
     "data": {
      "text/plain": [
       "\"The Tiger doesn't exists in Binary Tree\""
      ]
     },
     "execution_count": 14,
     "metadata": {},
     "output_type": "execute_result"
    }
   ],
   "source": [
    "search_value_binary_tree(drinks,\"Tiger\")"
   ]
  },
  {
   "cell_type": "code",
   "execution_count": 15,
   "metadata": {},
   "outputs": [],
   "source": [
    "def insert_node_binary_tree(rootnode,newNode):\n",
    "    if not rootnode:\n",
    "        rootnode = newNode\n",
    "    else:\n",
    "        queue = QueueByLinkedList()\n",
    "        queue.enqueue(rootnode)\n",
    "        while not (queue.isEmpty()):\n",
    "            root = queue.dequeue()\n",
    "            if root.leftChild is not None:\n",
    "                queue.enqueue(root.leftChild)\n",
    "            else:\n",
    "                root.leftChild = newNode\n",
    "                return \"Node has been successfully inserted\"\n",
    "            if root.rightChild is not None:\n",
    "                queue.enqueue(root.rightChild)\n",
    "            else:\n",
    "                root.rightChild = newNode\n",
    "                return \"Node has been successfully inserted\"\n",
    "        \n",
    "    "
   ]
  },
  {
   "cell_type": "code",
   "execution_count": 16,
   "metadata": {},
   "outputs": [],
   "source": [
    "dietCoke = TreeByLinkedList(\"Diet Coke\")"
   ]
  },
  {
   "cell_type": "code",
   "execution_count": 17,
   "metadata": {},
   "outputs": [
    {
     "data": {
      "text/plain": [
       "'Node has been successfully inserted'"
      ]
     },
     "execution_count": 17,
     "metadata": {},
     "output_type": "execute_result"
    }
   ],
   "source": [
    "insert_node_binary_tree(drinks,dietCoke)"
   ]
  },
  {
   "cell_type": "code",
   "execution_count": 18,
   "metadata": {},
   "outputs": [
    {
     "name": "stdout",
     "output_type": "stream",
     "text": [
      "Drinks\n",
      "Cold\n",
      "Hot\n",
      "Coco-Cola\n",
      "Pepsi\n",
      "Coffee\n",
      "Tea\n",
      "Diet Coke\n"
     ]
    }
   ],
   "source": [
    "level_order_traversal(drinks)"
   ]
  },
  {
   "cell_type": "code",
   "execution_count": 19,
   "metadata": {},
   "outputs": [
    {
     "name": "stdout",
     "output_type": "stream",
     "text": [
      "<__main__.TreeByLinkedList object at 0x00000184ADF2DEE0>\n"
     ]
    }
   ],
   "source": [
    "print(drinks)"
   ]
  },
  {
   "cell_type": "code",
   "execution_count": 20,
   "metadata": {},
   "outputs": [],
   "source": [
    "def get_deepest_node(rootnode):\n",
    "    if not rootnode:\n",
    "        return \n",
    "    else:\n",
    "        queue = QueueByLinkedList()\n",
    "        queue.enqueue(rootnode)\n",
    "        while not (queue.isEmpty()):\n",
    "            root = queue.dequeue()\n",
    "            if (root.leftChild) is not None:\n",
    "                queue.enqueue(root.leftChild)\n",
    "            if (root.rightChild) is not None:\n",
    "                queue.enqueue(root.rightChild)\n",
    "        return root\n",
    "            "
   ]
  },
  {
   "cell_type": "code",
   "execution_count": 21,
   "metadata": {},
   "outputs": [
    {
     "data": {
      "text/plain": [
       "'Diet Coke'"
      ]
     },
     "execution_count": 21,
     "metadata": {},
     "output_type": "execute_result"
    }
   ],
   "source": [
    "get_deepest_node(drinks).value"
   ]
  },
  {
   "cell_type": "code",
   "execution_count": 22,
   "metadata": {},
   "outputs": [],
   "source": [
    "\n",
    "def deleteDepestNode(rootnode,dNode):\n",
    "    if not rootnode:\n",
    "        return \n",
    "    else:\n",
    "        queue = QueueByLinkedList()\n",
    "        queue.enqueue(rootnode)\n",
    "        while not (queue.isEmpty()):\n",
    "            root = queue.dequeue()\n",
    "            if root is dNode:\n",
    "                root.value = None\n",
    "                return \n",
    "            if root.rightChild:\n",
    "                if root.rightChild is dNode:\n",
    "                    root.rightChild.value = None\n",
    "                    return \n",
    "                else:\n",
    "                    queue.enqueue(root.rightChild)\n",
    "            if root.leftChild:\n",
    "                if root.leftChild is dNode:\n",
    "                    root.leftChild.value = None\n",
    "                    return \n",
    "                else:\n",
    "                    queue.enqueue(root.leftChild)\n",
    "\n",
    "            "
   ]
  },
  {
   "cell_type": "code",
   "execution_count": 23,
   "metadata": {},
   "outputs": [],
   "source": [
    "def delete_node_binary_tree(rootnode,node):\n",
    "    if not rootnode:\n",
    "        return \"The binary tree doesn't exist\"\n",
    "    else:\n",
    "        queue = QueueByLinkedList()\n",
    "        queue.enqueue(rootnode)\n",
    "        while not (queue.isEmpty()):\n",
    "            root = queue.dequeue()\n",
    "            if root.value == node:\n",
    "                dNode = get_deepest_node(rootnode)\n",
    "                root.value = dNode.value\n",
    "                deleteDepestNode(rootnode,dNode)\n",
    "                return \"The deepest node has been deleted sucessfully\"\n",
    "            \n",
    "            if (root.leftChild) is not None:\n",
    "                queue.enqueue(root.leftChild)\n",
    "                \n",
    "            if (root.rightChild) is not None:\n",
    "                queue.enqueue(root.rightChild)   \n",
    "        return \"Failed to delete\"\n",
    "\n"
   ]
  },
  {
   "cell_type": "code",
   "execution_count": 24,
   "metadata": {},
   "outputs": [
    {
     "name": "stdout",
     "output_type": "stream",
     "text": [
      "Drinks\n",
      "Cold\n",
      "Hot\n",
      "Coco-Cola\n",
      "Pepsi\n",
      "Coffee\n",
      "Tea\n",
      "Diet Coke\n"
     ]
    }
   ],
   "source": [
    "level_order_traversal(drinks)"
   ]
  },
  {
   "cell_type": "code",
   "execution_count": 25,
   "metadata": {},
   "outputs": [
    {
     "data": {
      "text/plain": [
       "'The deepest node has been deleted sucessfully'"
      ]
     },
     "execution_count": 25,
     "metadata": {},
     "output_type": "execute_result"
    }
   ],
   "source": [
    "delete_node_binary_tree(drinks,\"Tea\")"
   ]
  },
  {
   "cell_type": "code",
   "execution_count": 26,
   "metadata": {},
   "outputs": [
    {
     "name": "stdout",
     "output_type": "stream",
     "text": [
      "Drinks\n",
      "Cold\n",
      "Hot\n",
      "Coco-Cola\n",
      "Pepsi\n",
      "Coffee\n",
      "Diet Coke\n",
      "None\n"
     ]
    }
   ],
   "source": [
    "level_order_traversal(drinks)"
   ]
  },
  {
   "cell_type": "code",
   "execution_count": 58,
   "metadata": {},
   "outputs": [],
   "source": [
    "# Creating a Binary Tree by List\n",
    "\n",
    "class BinaryTreeByList:\n",
    "    def __init__(self,size):\n",
    "        self.customList = size * [None]\n",
    "        self.lastUsedIndex = 0\n",
    "        self.maxSize = size\n",
    "    \n",
    "    def insert(self,value):\n",
    "        if self.lastUsedIndex + 1 == self.maxSize:\n",
    "            return \"The binary tree is full\"\n",
    "        self.customList[self.lastUsedIndex+1] = value\n",
    "        self.lastUsedIndex += 1\n",
    "        return \"The value has been successfully inserted\"\n",
    "\n",
    "    def searchValue(self,value):\n",
    "        for i in range(len(self.customList)):\n",
    "            if self.customList[i] == value:\n",
    "                return \"Found \"+value\n",
    "        return \"Not found\"\n",
    "    \n",
    "    def preOrderTraversal(self,index):\n",
    "        if index > self.lastUsedIndex:\n",
    "            return \n",
    "        print(self.customList[index])\n",
    "        self.preOrderTraversal(index * 2)\n",
    "        self.preOrderTraversal(( index * 2) + 1)\n",
    "    \n",
    "    def inOrderTraversal(self,index):\n",
    "        if index > self.lastUsedIndex:\n",
    "            return \n",
    "        self.preOrderTraversal(index * 2)\n",
    "        print(self.customList[index])\n",
    "        self.preOrderTraversal(( index * 2) + 1)\n",
    "        \n",
    "    def postOrderTraversal(self,index):\n",
    "        if index > self.lastUsedIndex:\n",
    "            return \n",
    "        self.preOrderTraversal(index * 2)\n",
    "        self.preOrderTraversal(( index * 2) + 1)\n",
    "        print(self.customList[index])\n",
    "    \n",
    "    def levelOrdertraversal(self,index):\n",
    "        for i in range(index,self.lastUsedIndex):\n",
    "            print(self.customList[i])\n",
    "        \n",
    "    def deleteNode(self,value):\n",
    "        if self.lastUsedIndex == 0:\n",
    "            return \"The binary tree is empty\"\n",
    "        for i in range(1,self.lastUsedIndex):\n",
    "            if self.customList[i] == value:\n",
    "                self.customList[i] = self.customList[self.lastUsedIndex]\n",
    "                self.customList[self.lastUsedIndex] = None\n",
    "                \n",
    "        \n",
    "        \n",
    "        \n",
    "        \n"
   ]
  },
  {
   "cell_type": "code",
   "execution_count": 59,
   "metadata": {},
   "outputs": [],
   "source": [
    "binaryTreeByList = BinaryTreeByList(8)"
   ]
  },
  {
   "cell_type": "code",
   "execution_count": 60,
   "metadata": {},
   "outputs": [
    {
     "data": {
      "text/plain": [
       "'The value has been successfully inserted'"
      ]
     },
     "execution_count": 60,
     "metadata": {},
     "output_type": "execute_result"
    }
   ],
   "source": [
    "binaryTreeByList.insert(\"Drinks\")\n",
    "binaryTreeByList.insert(\"Hot\")\n",
    "binaryTreeByList.insert(\"Cold\")"
   ]
  },
  {
   "cell_type": "code",
   "execution_count": 61,
   "metadata": {},
   "outputs": [
    {
     "data": {
      "text/plain": [
       "'Found Cold'"
      ]
     },
     "execution_count": 61,
     "metadata": {},
     "output_type": "execute_result"
    }
   ],
   "source": [
    "binaryTreeByList.searchValue(\"Cold\")"
   ]
  },
  {
   "cell_type": "code",
   "execution_count": 62,
   "metadata": {},
   "outputs": [
    {
     "name": "stdout",
     "output_type": "stream",
     "text": [
      "Drinks\n",
      "Hot\n",
      "Cold\n"
     ]
    }
   ],
   "source": [
    "binaryTreeByList.preOrderTraversal(1)"
   ]
  },
  {
   "cell_type": "code",
   "execution_count": 63,
   "metadata": {},
   "outputs": [
    {
     "name": "stdout",
     "output_type": "stream",
     "text": [
      "Hot\n",
      "Drinks\n",
      "Cold\n"
     ]
    }
   ],
   "source": [
    "binaryTreeByList.inOrderTraversal(1)"
   ]
  },
  {
   "cell_type": "code",
   "execution_count": 64,
   "metadata": {},
   "outputs": [
    {
     "name": "stdout",
     "output_type": "stream",
     "text": [
      "Hot\n",
      "Cold\n",
      "Drinks\n"
     ]
    }
   ],
   "source": [
    "binaryTreeByList.postOrderTraversal(1)"
   ]
  },
  {
   "cell_type": "code",
   "execution_count": 65,
   "metadata": {},
   "outputs": [],
   "source": [
    "binaryTreeByList.deleteNode(\"Cold\")"
   ]
  },
  {
   "cell_type": "code",
   "execution_count": 66,
   "metadata": {},
   "outputs": [
    {
     "name": "stdout",
     "output_type": "stream",
     "text": [
      "Drinks\n",
      "Hot\n"
     ]
    }
   ],
   "source": [
    "binaryTreeByList.levelOrdertraversal(1)"
   ]
  },
  {
   "cell_type": "code",
   "execution_count": null,
   "metadata": {},
   "outputs": [],
   "source": []
  }
 ],
 "metadata": {
  "kernelspec": {
   "display_name": "Python 3.9.7 64-bit",
   "language": "python",
   "name": "python3"
  },
  "language_info": {
   "codemirror_mode": {
    "name": "ipython",
    "version": 3
   },
   "file_extension": ".py",
   "mimetype": "text/x-python",
   "name": "python",
   "nbconvert_exporter": "python",
   "pygments_lexer": "ipython3",
   "version": "3.9.7"
  },
  "orig_nbformat": 4,
  "vscode": {
   "interpreter": {
    "hash": "b671c20432fcd147198c92e7f072af9e705f087eb990bee22b07f08caab9f630"
   }
  }
 },
 "nbformat": 4,
 "nbformat_minor": 2
}
